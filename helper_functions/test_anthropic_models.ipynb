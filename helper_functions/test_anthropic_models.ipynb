{
 "cells": [
  {
   "cell_type": "code",
   "execution_count": 17,
   "metadata": {},
   "outputs": [],
   "source": [
    "import anthropic\n",
    "client = anthropic.Anthropic(\n",
    "    # defaults to os.environ.get(\"ANTHROPIC_API_KEY\")\n",
    "    )\n",
    "def anthropic_models_gen(model, message, program_type, comment_symbol, max_gen_tokens):\n",
    "\n",
    "    message = client.messages.create(\n",
    "        model = model,\n",
    "        system = f\"{program_type} code generation\", \n",
    "        max_tokens=max_gen_tokens,\n",
    "        temperature=0,\n",
    "        messages=[\n",
    "                    {\n",
    "                        \"role\": \"user\",\n",
    "                        \"content\": [\n",
    "                            {\n",
    "                                \"type\": \"text\",\n",
    "                                \"text\": message\n",
    "                            }\n",
    "                        ]\n",
    "                    }\n",
    "                ]\n",
    "    )\n",
    "    return(message.content[0].text)"
   ]
  },
  {
   "cell_type": "code",
   "execution_count": 18,
   "metadata": {},
   "outputs": [
    {
     "name": "stdout",
     "output_type": "stream",
     "text": [
      "Here's the missing Python code that seamlessly connects the 'before' and 'after' sections:\n",
      "\n",
      "    return sum(x*y for x,y in zip(a,b))\n",
      "\n",
      "The complete code with the missing part filled in:\n",
      "\n",
      "import heapq\n",
      "# Calculate the dot product of two vectors\n",
      "def dot(a,b):\n",
      "    return sum(x*y for x,y in zip(a,b))\n",
      "\n",
      "# Get a specific column from a 2D list (matrix)\n",
      "def column(A, j):\n",
      "   return [row[j] for row in A]\n",
      "\n",
      "# Transpose a 2D list (matrix)\n",
      "def transpose(A):\n",
      "   return [column(A, j) for j in range(len(A[0]))]\n",
      "\n",
      "# Check if a column is a pivot column\n",
      "def isPivotCol(col):\n",
      "   return (len([c for c in col if\n"
     ]
    }
   ],
   "source": [
    "message = \"Generate the Python code necessary to seamlessly connect the provided \\\\'before\\\\' and \\\\'after\\\\' sections. \\\\n\\\\nNOTE: Python uses indentation to define blocks of code. Therefore, it\\\\'s crucial to use the correct indentation when generating your code. Ensure your code connects seamlessly with the \\\\'after\\\\' section using the correct indentation.\\\\nThe code should logically continue from the \\\\'before\\\\' section and connect smoothly to the \\\\'after\\\\' section. \\\\nEnsure the output is a syntactically correct snippet of Python code without any additional comments or text. \\\\nCRUCIALLY, when connecting the \\\\'before\\\\' and \\\\'after\\\\' sections, ensure all brackets, parentheses, and curly braces are properly paired and closed. Pay special attention to existing brackets, parentheses, and curly braces in the \\\\'before\\\\' and \\\\'after\\\\' sections. \\\\nIMPORTANTLY, generate code that does not overlap with or duplicate any code from the \\\\'before\\\\' and \\\\'after\\\\' sections.\\\\n\\\\n\\\\n\\\\nYour Task:\\\\nimport heapq\\\\n# Calculate the dot product of two vectors\\\\ndef dot(a,b):\\\\n# --BEGIN MISSING CODE--\\\\n[Insert only the syntactically correct Python syntax that connects seamlessly, does not overlap with, and does not duplicate functionality from the before or after sections. No comments or additional text.]\\\\n# --END MISSING CODE--\\\\nAfter Section:\\\\n\\\\n# Get a specific column from a 2D list (matrix)\\\\ndef column(A, j):\\\\n   return [row[j] for row in A]\\\\n\\\\n# Transpose a 2D list (matrix)\\\\ndef transpose(A):\\\\n   return [column(A, j) for j in range(len(A[0]))]\\\\n\\\\n# Check if a column is a pivot column\\\\ndef isPivotCol(col):\\\\n   return (len([c for c in col if c == 0]) == len(col) - 1) and sum(col) == 1\\\\n\\\\n# Find the value of a variable for a pivot column\\\\ndef variableValueForPivotColumn(tableau, column):\\\\n   pivotRow = [i for (i, x) in enumerate(column) if x == 1][0]\\\\n   return tableau[pivotRow][-1]\\\\n\\\\n# Check if we can improve the current solution\\\\ndef canImprove(tableau):\\\\n   lastRow = tableau[-1]\\\\n   return any(x > 0 for x in lastRow[:-1])\\\\n\\\\n# Check if there\\\\'s more than one minimum in a list\\\\ndef moreThanOneMin(L):\\\\n   if len(L) <= 1:\\\\n      return False\\\\n   x,y = heapq.nsmallest(2, L, key=lambda x: x[1])\\\\n   return x == y\\\\n\\\\n# Create an identity matrix with certain specifications\\\\ndef identity(numRows, numCols, val=1, rowStart=0):\\\\n   return [[(val if i == j else 0) for j in range(numCols)] for i in range(rowStart, numRows)] \\\\n\\\\ndef standardForm(cost, greaterThans=[], gtThreshold=[], lessThans=[], ltThreshold=[], equalities=[], eqThreshold=[], maximization=True):\\\\n   # Initialize variables for the count of new variables and the number of rows in the tableau\\\\n   newVars = 0\\\\n   numRows = 0\\\\n\\\\n   # Adjust the number of variables and rows based on the constraints\\\\n   # Add slack variables for \\\\'greater than\\\\' inequalities\\\\n   if gtThreshold != []:\\\\n      newVars += len(gtThreshold)\\\\n      numRows += len(gtThreshold)\\\\n\\\\n   if ltThreshold != []:\\\\n      newVars += len(ltThreshold)\\\\n      numRows += len(ltThreshold)\\\\n   \\\\n   # Equalities don\\\\'t need slack variables but add to the number of rows\\\\n   if eqThreshold != []:\\\\n      numRows += len(eqThreshold)\\\\n\\\\n   # If the problem is a minimization, convert it to a maximization by negating the cost vector   \\\\n   if not maximization:\\\\n      cost = [-x for x in cost]\\\\n\\\\n   # If no new variables are needed, the problem is already in standard form\\\\n   if newVars == 0:\\\\n      return cost, equalities, eqThreshold\\\\n\\\\n   # Extend the cost function with zeros for the new slack variables\\\\n   newCost = list(cost) + [0] * newVars\\\\n   constraints = []\\\\n   threshold = []\\\\n\\\\n   # Prepare the constraints for each condition (\\\\'greater than\\\\', \\\\'less than\\\\', \\\\'equal to\\\\')\\\\n   oldConstraints = [(greaterThans, gtThreshold, -1), (lessThans, ltThreshold, 1), (equalities, eqThreshold, 0)]\\\\n   offset = 0\\\\n\\\\n   # Process each set of constraints\\\\n   for constraintList, oldThreshold, coefficient in oldConstraints:\\\\n      # Append the identity matrix multiplied by the coefficient for slack variables\\\\n      constraints += [c + r for c, r in zip(constraintList, identity(numRows, newVars, coefficient, offset))]\\\\n      # Append the thresholds for each constraint\\\\n      threshold += oldThreshold\\\\n      # Increase the offset for the identity matrix used for the next set of constraints\\\\n      offset += len(oldThreshold)\\\\n\\\\n   return newCost, constraints, threshold\\\\n\\\\n\\\\'\\\\'\\\\'\\\\n   simplex: [float], [[float]], [float] -> [float], float\\\\n   Solve the given standard-form linear program:\\\\n      max <c,x>\\\\n      s.t. Ax = b\\\\n           x >= 0\\\\n   providing the optimal solution x* and the value of the objective function\\\\n\\\\'\\\\'\\\\'\\\\ndef simplex(c, A, b):\\\\n   # assume the last m columns of A are the slack variables; the initial basis is the set of slack variables\\\\n   tableau = [row[:] + [x] for row, x in zip(A, b)]\\\\n   tableau.append([ci for ci in c] + [0])\\\\n   print(\\\"Initial tableau:\\\")\\\\n   for row in tableau:\\\\n      print(row)\\\\n   print()\\\\n\\\\n   # Iterate until no improvements can be made\\\\n   while canImprove(tableau):\\\\n      # Choose entering variable (minimum positive index of the last row)\\\\n      column_choices = [(i,x) for (i,x) in enumerate(tableau[-1][:-1]) if x > 0]\\\\n      column = min(column_choices, key=lambda a: a[1])[0]\\\\n\\\\n      # Check for unboundedness\\\\n      if all(row[column] <= 0 for row in tableau):\\\\n         raise Exception(\\\\'Linear program is unbounded.\\\\')\\\\n\\\\n      # Check for degeneracy: more than one minimizer of the quotient\\\\n      quotients = [(i, r[-1] / r[column]) for i,r in enumerate(tableau[:-1]) if r[column] > 0]\\\\n\\\\n      if moreThanOneMin(quotients):\\\\n         raise Exception(\\\\'Linear program is degenerate.\\\\')\\\\n\\\\n      # Chosing leaving variable (row index minimizing the quotient)\\\\n      row = min(quotients, key=lambda x: x[1])[0]\\\\n\\\\n      #pivots on the chosen row and column\\\\n      pivot = row, column\\\\n\\\\n      print(\\\"Next pivot index is=%d,%d \\\\\\\\n\\\" % pivot)\\\\n      i,j = pivot\\\\n      pivotDenom = tableau[i][j]\\\\n\\\\n      # Normalize the pivot row\\\\n      tableau[i] = [x / pivotDenom for x in tableau[i]]\\\\n\\\\n      # Zero out the other entries in the pivot column\\\\n      for k,row in enumerate(tableau):\\\\n         if k != i:\\\\n            pivotRowMultiple = [y * tableau[k][j] for y in tableau[i]]\\\\n            tableau[k] = [x - y for x,y in zip(tableau[k], pivotRowMultiple)]\\\\n      print(\\\"Tableau after pivot:\\\")\\\\n      for row in tableau:\\\\n         print(row)\\\\n      print()\\\\n   \\\\n   # Transpose the tableau to make it easier to work with columns\\\\n   columns = transpose(tableau)\\\\n\\\\n   # Identify pivot columns in the tableau. A column is a pivot column if it has a single 1 and the rest of its entries are 0.\\\\n   indices = [j for j, col in enumerate(columns[:-1]) if isPivotCol(col)]\\\\n\\\\n   # Looking at the rightmost entry (the value part of the tableau row) of the row where the 1 in the pivot column is located.\\\\n   primal_solution = [(colIndex, variableValueForPivotColumn(tableau, columns[colIndex])) for colIndex in indices]\\\\n   \\\\n   # The last entry of the last row of the tableau gives us the negation of the objective function value.\\\\n   objective_value = -(tableau[-1][-1])\\\\n\\\\n   return tableau, primal_solution, objective_value'\"\n",
    "model=\"claude-3-opus-20240229\"\n",
    "# model=\"claude-3-sonnet-20240229\"\n",
    "# model =\"claude-3-haiku-20240307\"\n",
    "print(anthropic_models_gen(model, message, \"Python\", \"#\", 200))"
   ]
  },
  {
   "cell_type": "code",
   "execution_count": 8,
   "metadata": {},
   "outputs": [
    {
     "data": {
      "text/plain": [
       "TextBlock(text='Here\\'s the missing code that seamlessly connects the \\'before\\' and \\'after\\' sections:\\n\\n    return sum(x*y for x,y in zip(a,b))\\n\\nThe complete code with the missing part filled in:\\n\\nimport heapq\\n\\n# Calculate the dot product of two vectors\\ndef dot(a,b):\\n    return sum(x*y for x,y in zip(a,b))\\n\\n# Get a specific column from a 2D list (matrix)\\ndef column(A, j):\\n    return [row[j] for row in A]\\n\\n# Transpose a 2D list (matrix)\\ndef transpose(A):\\n    return [column(A, j) for j in range(len(A[0]))]\\n\\n# Check if a column is a pivot column\\ndef isPivotCol(col):\\n    return (len([c for c in col if c == 0]) == len(col) - 1) and sum(col) == 1\\n\\n# Find the value of a variable for a pivot column\\ndef variableValueForPivotColumn(tableau, column):\\n    pivotRow = [i for (i, x) in enumerate(column) if x == 1][0]\\n    return tableau[pivotRow][-1]\\n\\n# Check if we can improve the current solution\\ndef canImprove(tableau):\\n    lastRow = tableau[-1]\\n    return any(x > 0 for x in lastRow[:-1])\\n\\n# Check if there\\'s more than one minimum in a list\\ndef moreThanOneMin(L):\\n    if len(L) <= 1:\\n        return False\\n    x,y = heapq.nsmallest(2, L, key=lambda x: x[1])\\n    return x == y\\n\\n# Create an identity matrix with certain specifications\\ndef identity(numRows, numCols, val=1, rowStart=0):\\n    return [[(val if i == j else 0) for j in range(numCols)] for i in range(rowStart, numRows)]\\n\\ndef standardForm(cost, greaterThans=[], gtThreshold=[], lessThans=[], ltThreshold=[], equalities=[], eqThreshold=[], maximization=True):\\n    # Initialize variables for the count of new variables and the number of rows in the tableau\\n    newVars = 0\\n    numRows = 0\\n\\n    # Adjust the number of variables and rows based on the constraints\\n    # Add slack variables for \\'greater than\\' inequalities\\n    if gtThreshold != []:\\n        newVars += len(gtThreshold)\\n        numRows += len(gtThreshold)\\n\\n    if ltThreshold != []:\\n        newVars += len(ltThreshold)\\n        numRows += len(ltThreshold)\\n    \\n    # Equalities don\\'t need slack variables but add to the number of rows\\n    if eqThreshold != []:\\n        numRows += len(eqThreshold)\\n\\n    # If the problem is a minimization, convert it to a maximization by negating the cost vector   \\n    if not maximization:\\n        cost = [-x for x in cost]\\n\\n    # If no new variables are needed, the problem is already in standard form\\n    if newVars == 0:\\n        return cost, equalities, eqThreshold\\n\\n    # Extend the cost function with zeros for the new slack variables\\n    newCost = list(cost) + [0] * newVars\\n    constraints = []\\n    threshold = []\\n\\n    # Prepare the constraints for each condition (\\'greater than\\', \\'less than\\', \\'equal to\\')\\n    oldConstraints = [(greaterThans, gtThreshold, -1), (lessThans, ltThreshold, 1), (equalities, eqThreshold, 0)]\\n    offset = 0\\n\\n    # Process each set of constraints\\n    for constraintList, oldThreshold, coefficient in oldConstraints:\\n        # Append the identity matrix multiplied by the coefficient for slack variables\\n        constraints += [c + r for c, r in zip(constraintList, identity(numRows, newVars, coefficient, offset))]\\n        # Append the thresholds for each constraint\\n        threshold += oldThreshold\\n        # Increase the offset for the identity matrix used for the next set of constraints\\n        offset += len(oldThreshold)\\n\\n    return newCost, constraints, threshold\\n\\n\\'\\'\\'\\n    simplex: [float], [[float]], [float] -> [float], float\\n    Solve the given standard-form linear program:\\n        max <c,x>\\n        s.t. Ax = b\\n             x >= 0\\n    providing the optimal solution x* and the value of the objective function\\n\\'\\'\\'\\ndef simplex(c, A, b):\\n    # assume the last m columns of A are the slack variables; the initial basis is the set of slack variables\\n    tableau = [row[:] + [x] for row, x in zip(A, b)]\\n    tableau.append([ci for ci in c] + [0])\\n    print(\"Initial tableau:\")\\n    for row in tableau:\\n        print(row)\\n    print()\\n\\n    # Iterate until no improvements can be made\\n    while canImprove(tableau):\\n        # Choose entering variable (minimum positive index of the last row)\\n        column_choices = [(i,x) for (i,x) in enumerate(tableau[-1][:-1]) if x > 0]\\n        column = min(column_choices, key=lambda a: a[1])[0]\\n\\n        # Check for unboundedness\\n        if all(row[column] <= 0 for row in tableau):\\n            raise Exception(\\'Linear program is unbounded.\\')\\n\\n        # Check for degeneracy: more than one minimizer of the quotient\\n        quotients = [(i, r[-1] / r[column]) for i,r in enumerate(tableau[:-1]) if r[column] > 0]\\n\\n        if moreThanOneMin(quotients):\\n            raise Exception(\\'Linear program is degenerate.\\')\\n\\n        # Chosing leaving variable (row index minimizing the quotient)\\n        row = min(quotients, key=lambda x: x[1])[0]\\n\\n        #pivots on the chosen row and column\\n        pivot = row, column\\n\\n        print(\"Next pivot index is=%d,%d \\\\n\" % pivot)\\n        i,j = pivot\\n        pivotDenom = tableau[i][j]\\n\\n        # Normalize the pivot row\\n        tableau[i] = [x / pivotDenom for x in tableau[i]]\\n\\n        # Zero out the other entries in the pivot column\\n        for k,row in enumerate(tableau):\\n            if k != i:\\n                pivotRowMultiple = [y * tableau[k][j] for y in tableau[i]]\\n                tableau[k] = [x - y for x,y in zip(tableau[k], pivotRowMultiple)]\\n        print(\"Tableau after pivot:\")\\n        for row in tableau:\\n            print(row)\\n        print()\\n    \\n    # Transpose the tableau to make it easier to work with columns\\n    columns = transpose(tableau)\\n\\n    # Identify pivot columns in the tableau. A column is a pivot column if it has a single 1 and the rest of its entries are 0.\\n    indices = [j for j, col in enumerate(columns[:-1]) if isPivotCol(col)]\\n\\n    # Looking at the rightmost entry (the value part of the tableau row) of the row where the 1 in the pivot column is located.\\n    primal_solution = [(colIndex, variableValueForPivotColumn(tableau, columns[colIndex])) for colIndex in indices]\\n    \\n    # The last entry of the last row of the tableau gives us the negation of the objective function value.\\n    objective_value = -(tableau[-1][-1])\\n\\n    return tableau, primal_solution, objective_value', type='text')"
      ]
     },
     "execution_count": 8,
     "metadata": {},
     "output_type": "execute_result"
    }
   ],
   "source": [
    "message.content[0]"
   ]
  },
  {
   "cell_type": "code",
   "execution_count": 10,
   "metadata": {},
   "outputs": [
    {
     "data": {
      "text/plain": [
       "'Here\\'s the missing code that seamlessly connects the \\'before\\' and \\'after\\' sections:\\n\\n    return sum(x*y for x,y in zip(a,b))\\n\\nThe complete code with the missing part filled in:\\n\\nimport heapq\\n\\n# Calculate the dot product of two vectors\\ndef dot(a,b):\\n    return sum(x*y for x,y in zip(a,b))\\n\\n# Get a specific column from a 2D list (matrix)\\ndef column(A, j):\\n    return [row[j] for row in A]\\n\\n# Transpose a 2D list (matrix)\\ndef transpose(A):\\n    return [column(A, j) for j in range(len(A[0]))]\\n\\n# Check if a column is a pivot column\\ndef isPivotCol(col):\\n    return (len([c for c in col if c == 0]) == len(col) - 1) and sum(col) == 1\\n\\n# Find the value of a variable for a pivot column\\ndef variableValueForPivotColumn(tableau, column):\\n    pivotRow = [i for (i, x) in enumerate(column) if x == 1][0]\\n    return tableau[pivotRow][-1]\\n\\n# Check if we can improve the current solution\\ndef canImprove(tableau):\\n    lastRow = tableau[-1]\\n    return any(x > 0 for x in lastRow[:-1])\\n\\n# Check if there\\'s more than one minimum in a list\\ndef moreThanOneMin(L):\\n    if len(L) <= 1:\\n        return False\\n    x,y = heapq.nsmallest(2, L, key=lambda x: x[1])\\n    return x == y\\n\\n# Create an identity matrix with certain specifications\\ndef identity(numRows, numCols, val=1, rowStart=0):\\n    return [[(val if i == j else 0) for j in range(numCols)] for i in range(rowStart, numRows)]\\n\\ndef standardForm(cost, greaterThans=[], gtThreshold=[], lessThans=[], ltThreshold=[], equalities=[], eqThreshold=[], maximization=True):\\n    # Initialize variables for the count of new variables and the number of rows in the tableau\\n    newVars = 0\\n    numRows = 0\\n\\n    # Adjust the number of variables and rows based on the constraints\\n    # Add slack variables for \\'greater than\\' inequalities\\n    if gtThreshold != []:\\n        newVars += len(gtThreshold)\\n        numRows += len(gtThreshold)\\n\\n    if ltThreshold != []:\\n        newVars += len(ltThreshold)\\n        numRows += len(ltThreshold)\\n    \\n    # Equalities don\\'t need slack variables but add to the number of rows\\n    if eqThreshold != []:\\n        numRows += len(eqThreshold)\\n\\n    # If the problem is a minimization, convert it to a maximization by negating the cost vector   \\n    if not maximization:\\n        cost = [-x for x in cost]\\n\\n    # If no new variables are needed, the problem is already in standard form\\n    if newVars == 0:\\n        return cost, equalities, eqThreshold\\n\\n    # Extend the cost function with zeros for the new slack variables\\n    newCost = list(cost) + [0] * newVars\\n    constraints = []\\n    threshold = []\\n\\n    # Prepare the constraints for each condition (\\'greater than\\', \\'less than\\', \\'equal to\\')\\n    oldConstraints = [(greaterThans, gtThreshold, -1), (lessThans, ltThreshold, 1), (equalities, eqThreshold, 0)]\\n    offset = 0\\n\\n    # Process each set of constraints\\n    for constraintList, oldThreshold, coefficient in oldConstraints:\\n        # Append the identity matrix multiplied by the coefficient for slack variables\\n        constraints += [c + r for c, r in zip(constraintList, identity(numRows, newVars, coefficient, offset))]\\n        # Append the thresholds for each constraint\\n        threshold += oldThreshold\\n        # Increase the offset for the identity matrix used for the next set of constraints\\n        offset += len(oldThreshold)\\n\\n    return newCost, constraints, threshold\\n\\n\\'\\'\\'\\n    simplex: [float], [[float]], [float] -> [float], float\\n    Solve the given standard-form linear program:\\n        max <c,x>\\n        s.t. Ax = b\\n             x >= 0\\n    providing the optimal solution x* and the value of the objective function\\n\\'\\'\\'\\ndef simplex(c, A, b):\\n    # assume the last m columns of A are the slack variables; the initial basis is the set of slack variables\\n    tableau = [row[:] + [x] for row, x in zip(A, b)]\\n    tableau.append([ci for ci in c] + [0])\\n    print(\"Initial tableau:\")\\n    for row in tableau:\\n        print(row)\\n    print()\\n\\n    # Iterate until no improvements can be made\\n    while canImprove(tableau):\\n        # Choose entering variable (minimum positive index of the last row)\\n        column_choices = [(i,x) for (i,x) in enumerate(tableau[-1][:-1]) if x > 0]\\n        column = min(column_choices, key=lambda a: a[1])[0]\\n\\n        # Check for unboundedness\\n        if all(row[column] <= 0 for row in tableau):\\n            raise Exception(\\'Linear program is unbounded.\\')\\n\\n        # Check for degeneracy: more than one minimizer of the quotient\\n        quotients = [(i, r[-1] / r[column]) for i,r in enumerate(tableau[:-1]) if r[column] > 0]\\n\\n        if moreThanOneMin(quotients):\\n            raise Exception(\\'Linear program is degenerate.\\')\\n\\n        # Chosing leaving variable (row index minimizing the quotient)\\n        row = min(quotients, key=lambda x: x[1])[0]\\n\\n        #pivots on the chosen row and column\\n        pivot = row, column\\n\\n        print(\"Next pivot index is=%d,%d \\\\n\" % pivot)\\n        i,j = pivot\\n        pivotDenom = tableau[i][j]\\n\\n        # Normalize the pivot row\\n        tableau[i] = [x / pivotDenom for x in tableau[i]]\\n\\n        # Zero out the other entries in the pivot column\\n        for k,row in enumerate(tableau):\\n            if k != i:\\n                pivotRowMultiple = [y * tableau[k][j] for y in tableau[i]]\\n                tableau[k] = [x - y for x,y in zip(tableau[k], pivotRowMultiple)]\\n        print(\"Tableau after pivot:\")\\n        for row in tableau:\\n            print(row)\\n        print()\\n    \\n    # Transpose the tableau to make it easier to work with columns\\n    columns = transpose(tableau)\\n\\n    # Identify pivot columns in the tableau. A column is a pivot column if it has a single 1 and the rest of its entries are 0.\\n    indices = [j for j, col in enumerate(columns[:-1]) if isPivotCol(col)]\\n\\n    # Looking at the rightmost entry (the value part of the tableau row) of the row where the 1 in the pivot column is located.\\n    primal_solution = [(colIndex, variableValueForPivotColumn(tableau, columns[colIndex])) for colIndex in indices]\\n    \\n    # The last entry of the last row of the tableau gives us the negation of the objective function value.\\n    objective_value = -(tableau[-1][-1])\\n\\n    return tableau, primal_solution, objective_value'"
      ]
     },
     "execution_count": 10,
     "metadata": {},
     "output_type": "execute_result"
    }
   ],
   "source": [
    "# type(message.content[0])\n",
    "message.content[0].text"
   ]
  }
 ],
 "metadata": {
  "kernelspec": {
   "display_name": "Python 3",
   "language": "python",
   "name": "python3"
  },
  "language_info": {
   "codemirror_mode": {
    "name": "ipython",
    "version": 3
   },
   "file_extension": ".py",
   "mimetype": "text/x-python",
   "name": "python",
   "nbconvert_exporter": "python",
   "pygments_lexer": "ipython3",
   "version": "3.9.7"
  }
 },
 "nbformat": 4,
 "nbformat_minor": 2
}
