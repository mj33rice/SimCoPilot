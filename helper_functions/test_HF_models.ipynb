{
 "cells": [
  {
   "cell_type": "code",
   "execution_count": 9,
   "metadata": {},
   "outputs": [
    {
     "name": "stderr",
     "output_type": "stream",
     "text": [
      "Special tokens have been added in the vocabulary, make sure the associated word embeddings are fine-tuned or trained.\n",
      "/home/mj33/.conda/envs/t5_infer/lib/python3.9/site-packages/transformers/generation/configuration_utils.py:520: UserWarning: `do_sample` is set to `False`. However, `top_p` is set to `0.95` -- this flag is only used in sample-based generation modes. You should set `do_sample=True` or unset `top_p`.\n",
      "  warnings.warn(\n",
      "The attention mask and the pad token id were not set. As a consequence, you may observe unexpected behavior. Please pass your input's `attention_mask` to obtain reliable results.\n",
      "Setting `pad_token_id` to `eos_token_id`:32021 for open-end generation.\n"
     ]
    },
    {
     "name": "stdout",
     "output_type": "stream",
     "text": [
      "Sure, here is a simple implementation of the Quick Sort algorithm in Python:\n",
      "\n",
      "```python\n",
      "def quick_sort(arr):\n",
      "    if len(arr) <= 1:\n",
      "        return arr\n",
      "    pivot = arr[len(arr) // 2]\n",
      "    left = [x for x in arr if x < pivot]\n",
      "    middle = [x for x in arr if x == pivot]\n",
      "    right = [x for x in arr if x > pivot]\n",
      "    return quick_sort(left) + middle + quick_sort(right)\n",
      "\n",
      "# Test the function\n",
      "print(quick_sort([3,6,8,10,1,2,1]))\n",
      "# Output: [1, 1, 2, 3, 6, 8, 10]\n",
      "```\n",
      "\n",
      "This algorithm works by selecting a 'pivot' element from the array and partitioning the other elements into two sub-arrays, according to whether they are less than or greater than the pivot. The sub-arrays are then recursively sorted.\n",
      "\n"
     ]
    }
   ],
   "source": [
    "from transformers import AutoTokenizer, AutoModelForCausalLM\n",
    "import torch\n",
    "tokenizer = AutoTokenizer.from_pretrained(\"deepseek-ai/deepseek-coder-1.3b-instruct\", trust_remote_code=True)\n",
    "model = AutoModelForCausalLM.from_pretrained(\"deepseek-ai/deepseek-coder-1.3b-instruct\", trust_remote_code=True, torch_dtype=torch.float32).cuda()\n",
    "messages=[\n",
    "    { 'role': 'user', 'content': \"write a quick sort algorithm in python.\"}\n",
    "]\n",
    "inputs = tokenizer.apply_chat_template(messages, add_generation_prompt=True, return_tensors=\"pt\").to(model.device)\n",
    "# tokenizer.eos_token_id is the id of <|EOT|> token\n",
    "outputs = model.generate(inputs, max_new_tokens=512, do_sample=False, top_k=50, top_p=0.95, num_return_sequences=1, eos_token_id=tokenizer.eos_token_id)\n",
    "print(tokenizer.decode(outputs[0][len(inputs[0]):], skip_special_tokens=True))\n"
   ]
  },
  {
   "cell_type": "code",
   "execution_count": 3,
   "metadata": {},
   "outputs": [
    {
     "name": "stderr",
     "output_type": "stream",
     "text": [
      "Setting `pad_token_id` to `eos_token_id`:32021 for open-end generation.\n"
     ]
    },
    {
     "name": "stdout",
     "output_type": "stream",
     "text": [
      "<｜begin▁of▁sentence｜>#utils.py\n",
      "import torch\n",
      "from sklearn import datasets\n",
      "from sklearn.model_selection import train_test_split\n",
      "from sklearn.preprocessing import StandardScaler\n",
      "from sklearn.metrics import accuracy_score\n",
      "\n",
      "def load_data():\n",
      "    iris = datasets.load_iris()\n",
      "    X = iris.data\n",
      "    y = iris.target\n",
      "\n",
      "    # Standardize the data\n",
      "    scaler = StandardScaler()\n",
      "    X = scaler.fit_transform(X)\n",
      "\n",
      "    X_train, X_test, y_train, y_test = train_test_split(X, y, test_size=0.3, random_state=42)\n",
      "\n",
      "    # Convert numpy data to PyTorch tensors\n",
      "    X_train = torch.tensor(X_train, dtype=torch.float32)\n",
      "    X_test = torch.tensor(X_test, dtype=torch.float32)\n",
      "    y_train = torch.tensor(y_train, dtype=torch.int64)\n",
      "    y_test = torch.tensor(y_test, dtype=torch.int64)\n",
      "\n",
      "    return X_train, X_test, y_train, y_test\n",
      "\n",
      "def evaluate_predictions(y_test, y_pred):\n",
      "    return accuracy_score(y_test, y_pred)\n",
      "\n",
      "\n",
      "# model.py\n",
      "import torch\n",
      "import torch.nn as nn\n",
      "import torch.optim as optim\n",
      "from torch.utils.data import DataLoader, TensorDataset\n",
      "\n",
      "class IrisClassifier(nn.Module):\n",
      "    def __init__(self):\n",
      "        super(IrisClassifier, self).__init__()\n",
      "        self.fc = nn.Sequential(\n",
      "            nn.Linear(4, 16),\n",
      "            nn.ReLU(),\n",
      "            nn.Linear(16, 3)\n",
      "        )\n",
      "\n",
      "    def forward(self, x):\n",
      "        return self.fc(x)\n",
      "\n",
      "    def train_model(self, X_train, y_train, epochs, lr, batch_size):\n",
      "        criterion = nn.CrossEntropyLoss()\n",
      "        optimizer = optim.Adam(self.parameters(), lr=lr)\n",
      "\n",
      "        # Create DataLoader for batches\n",
      "        dataset = TensorDataset(X_train, y_train)\n",
      "        dataloader = DataLoader(dataset, batch_size=batch_size, shuffle=True)\n",
      "\n",
      "        for epoch in range(epochs):\n",
      "            for batch_X, batch_y in dataloader:\n",
      "                optimizer.zero_grad()\n",
      "                outputs = self(batch_X)\n",
      "                loss = criterion(outputs, batch_y)\n",
      "                loss.backward()\n",
      "                optimizer.step()\n",
      "\n",
      "    def predict(self, X_test):\n",
      "        with torch.no_grad():\n",
      "            outputs = self(X_test)\n",
      "            _, predicted = outputs.max(1)\n",
      "        return predicted.numpy()\n",
      "\n",
      "\n",
      "# main.py\n",
      "from utils import load_data, evaluate_predictions\n",
      "from model import IrisClassifier as Classifier\n",
      "\n",
      "def main():\n",
      "    # Model training and evaluation\n",
      "    X_train, X_test, y_train, y_test = load_data()\n",
      "\n",
      "    model = Classifier()\n",
      "    model.train_model(X_train, y_train, epochs=10, lr=0.01, batch_size=32)\n",
      "\n",
      "    y_pred = model.predict(X_test)\n",
      "    print(f'Accuracy: {evaluate_predictions(y_test, y_pred)}')\n",
      "\n",
      "if __name__ == \"__main__\":\n",
      "    main()\n",
      "\n",
      "#main.py\n",
      "from utils import load_data, evaluate_\n"
     ]
    }
   ],
   "source": [
    "input_text = \"\"\"#utils.py\n",
    "import torch\n",
    "from sklearn import datasets\n",
    "from sklearn.model_selection import train_test_split\n",
    "from sklearn.preprocessing import StandardScaler\n",
    "from sklearn.metrics import accuracy_score\n",
    "\n",
    "def load_data():\n",
    "    iris = datasets.load_iris()\n",
    "    X = iris.data\n",
    "    y = iris.target\n",
    "\n",
    "    # Standardize the data\n",
    "    scaler = StandardScaler()\n",
    "    X = scaler.fit_transform(X)\n",
    "\n",
    "    X_train, X_test, y_train, y_test = train_test_split(X, y, test_size=0.3, random_state=42)\n",
    "\n",
    "    # Convert numpy data to PyTorch tensors\n",
    "    X_train = torch.tensor(X_train, dtype=torch.float32)\n",
    "    X_test = torch.tensor(X_test, dtype=torch.float32)\n",
    "    y_train = torch.tensor(y_train, dtype=torch.int64)\n",
    "    y_test = torch.tensor(y_test, dtype=torch.int64)\n",
    "\n",
    "    return X_train, X_test, y_train, y_test\n",
    "\n",
    "def evaluate_predictions(y_test, y_pred):\n",
    "    return accuracy_score(y_test, y_pred)\n",
    "\n",
    "\n",
    "# model.py\n",
    "import torch\n",
    "import torch.nn as nn\n",
    "import torch.optim as optim\n",
    "from torch.utils.data import DataLoader, TensorDataset\n",
    "\n",
    "class IrisClassifier(nn.Module):\n",
    "    def __init__(self):\n",
    "        super(IrisClassifier, self).__init__()\n",
    "        self.fc = nn.Sequential(\n",
    "            nn.Linear(4, 16),\n",
    "            nn.ReLU(),\n",
    "            nn.Linear(16, 3)\n",
    "        )\n",
    "\n",
    "    def forward(self, x):\n",
    "        return self.fc(x)\n",
    "\n",
    "    def train_model(self, X_train, y_train, epochs, lr, batch_size):\n",
    "        criterion = nn.CrossEntropyLoss()\n",
    "        optimizer = optim.Adam(self.parameters(), lr=lr)\n",
    "\n",
    "        # Create DataLoader for batches\n",
    "        dataset = TensorDataset(X_train, y_train)\n",
    "        dataloader = DataLoader(dataset, batch_size=batch_size, shuffle=True)\n",
    "\n",
    "        for epoch in range(epochs):\n",
    "            for batch_X, batch_y in dataloader:\n",
    "                optimizer.zero_grad()\n",
    "                outputs = self(batch_X)\n",
    "                loss = criterion(outputs, batch_y)\n",
    "                loss.backward()\n",
    "                optimizer.step()\n",
    "\n",
    "    def predict(self, X_test):\n",
    "        with torch.no_grad():\n",
    "            outputs = self(X_test)\n",
    "            _, predicted = outputs.max(1)\n",
    "        return predicted.numpy()\n",
    "\n",
    "\n",
    "# main.py\n",
    "from utils import load_data, evaluate_predictions\n",
    "from model import IrisClassifier as Classifier\n",
    "\n",
    "def main():\n",
    "    # Model training and evaluation\n",
    "\"\"\"\n",
    "inputs = tokenizer(input_text, return_tensors=\"pt\").to(model.device)\n",
    "outputs = model.generate(**inputs, max_new_tokens=140)\n",
    "print(tokenizer.decode(outputs[0]))"
   ]
  },
  {
   "cell_type": "code",
   "execution_count": 6,
   "metadata": {},
   "outputs": [
    {
     "name": "stderr",
     "output_type": "stream",
     "text": [
      "Setting `pad_token_id` to `eos_token_id`:32021 for open-end generation.\n"
     ]
    },
    {
     "name": "stdout",
     "output_type": "stream",
     "text": [
      "<｜fim▁begin｜>def quick_sort(arr):\n",
      "    if len(arr) <= 1:\n",
      "        return arr\n",
      "    pivot = arr[0]\n",
      "    left = []\n",
      "    right = []\n",
      "    for i in range(1, len(arr)):# 二分查找\n",
      "def binary_search(\n",
      "\n",
      "        if arr[i] < pivot:\n",
      "            left.append(arr[i])\n",
      "        else:\n",
      "            right.append(arr[i])\n",
      "    return quick_sort(left) + [pivot] + quick_sort(right)<｜fim▁end｜>\n"
     ]
    }
   ],
   "source": [
    "input_text = \"\"\"<｜fim▁begin｜>def quick_sort(arr):\n",
    "    if len(arr) <= 1:\n",
    "        return arr\n",
    "    pivot = arr[0]\n",
    "    left = []\n",
    "    right = []\n",
    "<｜fim▁hole｜>\n",
    "        if arr[i] < pivot:\n",
    "            left.append(arr[i])\n",
    "        else:\n",
    "            right.append(arr[i])\n",
    "    return quick_sort(left) + [pivot] + quick_sort(right)<｜fim▁end｜>\"\"\"\n",
    "inputs = tokenizer(input_text, return_tensors=\"pt\").to(model.device)\n",
    "outputs = model.generate(**inputs, max_length=128)\n",
    "before = \"\"\"<｜fim▁begin｜>def quick_sort(arr):\n",
    "    if len(arr) <= 1:\n",
    "        return arr\n",
    "    pivot = arr[0]\n",
    "    left = []\n",
    "    right = []\"\"\"\n",
    "after = \"\"\"\n",
    "        if arr[i] < pivot:\n",
    "            left.append(arr[i])\n",
    "        else:\n",
    "            right.append(arr[i])\n",
    "    return quick_sort(left) + [pivot] + quick_sort(right)<｜fim▁end｜>\"\"\"\n",
    "print(before)\n",
    "print(tokenizer.decode(outputs[0], skip_special_tokens=True)[len(input_text):])\n",
    "print(after)"
   ]
  },
  {
   "cell_type": "code",
   "execution_count": 7,
   "metadata": {},
   "outputs": [
    {
     "name": "stdout",
     "output_type": "stream",
     "text": [
      "    for i in range(1, len(arr)):# 二分查找\n",
      "def binary_search(\n"
     ]
    }
   ],
   "source": [
    "print(tokenizer.decode(outputs[0], skip_special_tokens=True)[len(input_text):])\n"
   ]
  },
  {
   "cell_type": "code",
   "execution_count": 11,
   "metadata": {},
   "outputs": [],
   "source": [
    "input_text = \"\"\"<｜fim▁begin｜>def quick_sort(arr):\n",
    "    if len(arr) <= 1:\n",
    "        return arr\n",
    "    pivot = arr[0]\n",
    "    left = []\n",
    "    right = []\n",
    "<｜fim▁hole｜>\n",
    "        if arr[i] < pivot:\n",
    "            left.append(arr[i])\n",
    "        else:\n",
    "            right.append(arr[i])\n",
    "    return quick_sort(left) + [pivot] + quick_sort(right)<｜fim▁end｜>\"\"\"\n",
    "inputs = tokenizer(input_text, return_tensors=\"pt\").to(model.device)\n",
    "# outputs = model.generate(**inputs, max_length=128)\n",
    "# print(tokenizer.decode(outputs[0], skip_special_tokens=True)[len(input_text):])\n"
   ]
  },
  {
   "cell_type": "code",
   "execution_count": 13,
   "metadata": {},
   "outputs": [
    {
     "data": {
      "text/plain": [
       "{'input_ids': tensor([[32013, 32016,  1551,  3383,    62, 14355,     7,  3046,  1772,   185,\n",
       "           315,   562, 10405,     7,  3046,     8, 22322,    16,    25,   185,\n",
       "           436,   967,  5369,   185,   315,   265, 27104,   405,  5369,    58,\n",
       "            15,    60,   185,   315,  2104,   405,  9635,   185,   315,  1327,\n",
       "           405,  9635,   185, 32015,   185,   436,   562,  5369,    58,    72,\n",
       "            60,  1013,   265, 27104,    25,   185,   655,  2104,    13,  6880,\n",
       "             7,  3046,    58,    72,  5589,   185,   436,  1969,    25,   185,\n",
       "           655,  1327,    13,  6880,     7,  3046,    58,    72,  5589,   185,\n",
       "           315,   967,  3383,    62, 14355,     7,  1349,     8,   945,   821,\n",
       "            79, 27104,    60,   945,  3383,    62, 14355,     7,  1031,     8,\n",
       "         32017]], device='cuda:0'), 'attention_mask': tensor([[1, 1, 1, 1, 1, 1, 1, 1, 1, 1, 1, 1, 1, 1, 1, 1, 1, 1, 1, 1, 1, 1, 1, 1,\n",
       "         1, 1, 1, 1, 1, 1, 1, 1, 1, 1, 1, 1, 1, 1, 1, 1, 1, 1, 1, 1, 1, 1, 1, 1,\n",
       "         1, 1, 1, 1, 1, 1, 1, 1, 1, 1, 1, 1, 1, 1, 1, 1, 1, 1, 1, 1, 1, 1, 1, 1,\n",
       "         1, 1, 1, 1, 1, 1, 1, 1, 1, 1, 1, 1, 1, 1, 1, 1, 1, 1, 1, 1, 1, 1, 1, 1,\n",
       "         1, 1, 1, 1, 1]], device='cuda:0')}"
      ]
     },
     "execution_count": 13,
     "metadata": {},
     "output_type": "execute_result"
    }
   ],
   "source": [
    "len(inputs)\n",
    "inputs"
   ]
  },
  {
   "cell_type": "code",
   "execution_count": 15,
   "metadata": {},
   "outputs": [
    {
     "data": {
      "text/plain": [
       "100"
      ]
     },
     "execution_count": 15,
     "metadata": {},
     "output_type": "execute_result"
    }
   ],
   "source": [
    "len(tokenizer.tokenize(input_text))"
   ]
  }
 ],
 "metadata": {
  "kernelspec": {
   "display_name": "Python 3",
   "language": "python",
   "name": "python3"
  },
  "language_info": {
   "codemirror_mode": {
    "name": "ipython",
    "version": 3
   },
   "file_extension": ".py",
   "mimetype": "text/x-python",
   "name": "python",
   "nbconvert_exporter": "python",
   "pygments_lexer": "ipython3",
   "version": "3.9.7"
  }
 },
 "nbformat": 4,
 "nbformat_minor": 2
}
