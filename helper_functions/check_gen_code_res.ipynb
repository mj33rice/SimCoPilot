{
 "cells": [
  {
   "cell_type": "code",
   "execution_count": 1,
   "metadata": {},
   "outputs": [],
   "source": [
    "import os\n",
    "import glob\n",
    "import pandas as pd\n",
    "\n",
    "# Specify the directory you want to use\n",
    "# directory_path = '/home/mj33/LLMs_Program_Synthesis_Eval/Analysis_Results/Claude-3/1st_run'\n",
    "\n",
    "# directory_path = '/home/mj33/LLMs_Program_Synthesis_Eval/Analysis_Results/GPT-Temp0_3rd'\n",
    "# directory_path = '/home/mj33/LLMs_Program_Synthesis_Eval/Analysis_Results/Claude-3/2nd_run_Java_Infilling'\n",
    "# directory_path = '/home/mj33/LLMs_Program_Synthesis_Eval/Analysis_Results/Claude-3/2nd_run_Java_Infilling/Case_w_limit_err'\n",
    "# directory_path = '/home/mj33/LLMs_Program_Synthesis_Eval/Analysis_Results/GPT-Temp0_2nd'\n",
    "# directory_path = '/home/mj33/LLMs_Program_Synthesis_Eval/Analysis_Results/'\n",
    "\n",
    "# directory_path = '/home/mj33/LLMs_Program_Synthesis_Eval/Analysis_Results/storage_server/Java_all_res/Infilling'\n",
    "# directory_path = '/home/mj33/LLMs_Program_Synthesis_Eval/Analysis_Results/storage_server/Python_all_res/Infilling'\n",
    "\n",
    "\n",
    "\n",
    "directory_path = '/home/mj33/LLMs_Program_Synthesis_Eval/Analysis_Results'\n",
    "\n",
    "# Iterate over all CSV files in the directory\n",
    "for filename in glob.glob(os.path.join(directory_path, '*.csv')):\n",
    "    # Read the CSV file into a DataFrame\n",
    "    df = pd.read_csv(filename)\n",
    "\n",
    "    # Convert the dictionary to a string\n",
    "    # dict_string = str({'original_code': \"An error occurred: Error code: 429 - {'type': 'error', 'error': {'type': 'rate_limit_error', 'message': 'Number of concurrent connections has exceeded your rate limit. Please try again later or contact sales at https://www.anthropic.com/contact-sales to discuss your options for a rate limit increase.'}}\", 'cleaned_code': '', 'trimmed_code': '', 'indented_code': ''})\n",
    "    dict_string = \"An error occurred\"\n",
    "\n",
    "    # {'original_code': \"An error occurred: Error code: 429 - {'error': {'message': 'Rate limit reached for gpt-3.5-turbo-0125 in organization org-n3n9Pg5sFGXQRmUccZKZofO8 on tokens per min (TPM): Limit 160000, Used 158973, Requested 3948. Please try again in 1.095s. Visit https://platform.openai.com/account/rate-limits to learn more.', 'type': 'tokens', 'param': None, 'code': 'rate_limit_exceeded'}}\", 'cleaned_code': \"An error occurred: Error code: 429 - {'error': {'message': 'Rate limit reached for gpt-3.5-turbo-0125 in organization org-n3n9Pg5sFGXQRmUccZKZofO8 on tokens per min (TPM): Limit 160000, Used 158973, Requested 3948. Please try again in 1.095s. Visit https://platform.openai.com/account/rate-limits to learn more.', 'type': 'tokens', 'param': None, 'code': 'rate_limit_exceeded'}}\", 'trimmed_code': \"An error occurred: Error code: 429 - {'error': {'message': 'Rate limit reached for gpt-3.5-turbo-0125 in organization org-n3n9Pg5sFGXQRmUccZKZofO8 on tokens per min (TPM): Limit 160000, Used 158973, Requested 3948. Please try again in 1.095s. Visit https://platform.openai.com/account/rate-limits to learn more.', 'type': 'tokens', 'param': None, 'code': 'rate_limit_exceeded'}}\", 'indented_code': \"    An error occurred: Error code: 429 - {'error': {'message': 'Rate limit reached for gpt-3.5-turbo-0125 in organization org-n3n9Pg5sFGXQRmUccZKZofO8 on tokens per min (TPM): Limit 160000, Used 158973, Requested 3948. Please try again in 1.095s. Visit https://platform.openai.com/account/rate-limits to learn more.', 'type': 'tokens', 'param': None, 'code': 'rate_limit_exceeded'}}\"}\n",
    "\n",
    "    # # Count the number of rows where 'gen_code_dict' matches the specified dictionary string\n",
    "    # count = df[df['gen_code_dict'] == dict_string].shape[0]\n",
    "    \n",
    "    # Count the number of rows where 'gen_code_dict' contains 'Error'\n",
    "    count = df[df['gen_code_dict'].str.contains(dict_string, na=False)].shape[0]\n",
    "\n",
    "    # If the count is greater than 0, print the filename and the count\n",
    "    if count > 0:\n",
    "        print(f'File: {filename}, Count: {count}')"
   ]
  },
  {
   "cell_type": "code",
   "execution_count": 2,
   "metadata": {},
   "outputs": [
    {
     "name": "stdout",
     "output_type": "stream",
     "text": [
      "Empty DataFrame\n",
      "Columns: [filename, gen_code_dict_values, count]\n",
      "Index: []\n"
     ]
    },
    {
     "data": {
      "text/html": [
       "<div>\n",
       "<style scoped>\n",
       "    .dataframe tbody tr th:only-of-type {\n",
       "        vertical-align: middle;\n",
       "    }\n",
       "\n",
       "    .dataframe tbody tr th {\n",
       "        vertical-align: top;\n",
       "    }\n",
       "\n",
       "    .dataframe thead th {\n",
       "        text-align: right;\n",
       "    }\n",
       "</style>\n",
       "<table border=\"1\" class=\"dataframe\">\n",
       "  <thead>\n",
       "    <tr style=\"text-align: right;\">\n",
       "      <th></th>\n",
       "      <th>filename</th>\n",
       "      <th>gen_code_dict_values</th>\n",
       "      <th>count</th>\n",
       "    </tr>\n",
       "  </thead>\n",
       "  <tbody>\n",
       "  </tbody>\n",
       "</table>\n",
       "</div>"
      ],
      "text/plain": [
       "Empty DataFrame\n",
       "Columns: [filename, gen_code_dict_values, count]\n",
       "Index: []"
      ]
     },
     "execution_count": 2,
     "metadata": {},
     "output_type": "execute_result"
    }
   ],
   "source": [
    "# Create an empty DataFrame to store the results\n",
    "result_df = pd.DataFrame(columns=['filename', 'gen_code_dict_values', 'count'])\n",
    "\n",
    "# Iterate over all CSV files in the directory\n",
    "for filename in glob.glob(os.path.join(directory_path, '*.csv')):\n",
    "    # Read the CSV file into a DataFrame\n",
    "    df = pd.read_csv(filename)\n",
    "\n",
    "    # Filter the DataFrame for rows where 'gen_code_dict' contains dict_string\n",
    "    filtered_df = df[df['gen_code_dict'].str.contains(dict_string, na=False)]\n",
    "\n",
    "    # If the filtered DataFrame is not empty, append the filename, the 'gen_code_dict' values, and the count to the result DataFrame\n",
    "    if not filtered_df.empty:\n",
    "        result_df = result_df.append({'filename': filename, 'gen_code_dict_values': filtered_df['gen_code_dict'].values, 'count': filtered_df.shape[0]}, ignore_index=True)\n",
    "\n",
    "# Print the result DataFrame\n",
    "print(result_df)\n",
    "result_df"
   ]
  }
 ],
 "metadata": {
  "kernelspec": {
   "display_name": "Python 3",
   "language": "python",
   "name": "python3"
  },
  "language_info": {
   "codemirror_mode": {
    "name": "ipython",
    "version": 3
   },
   "file_extension": ".py",
   "mimetype": "text/x-python",
   "name": "python",
   "nbconvert_exporter": "python",
   "pygments_lexer": "ipython3",
   "version": "3.9.7"
  }
 },
 "nbformat": 4,
 "nbformat_minor": 2
}
