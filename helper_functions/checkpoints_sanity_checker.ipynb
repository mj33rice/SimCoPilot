{
 "cells": [
  {
   "cell_type": "code",
   "execution_count": 1,
   "metadata": {},
   "outputs": [],
   "source": [
    "import json\n",
    "\n",
    "def check_ranges(file_path):\n",
    "    with open(file_path, 'r') as f:\n",
    "        data = json.load(f)\n",
    "    for task in data:\n",
    "        for checkpoint in ['checkpoint_LN_infilling', 'checkpoint_LN_Completion']:\n",
    "            for range in task[checkpoint]:\n",
    "                if range[0] > range[1]:\n",
    "                    print(f\"In task {task['Task_Name']}, in {checkpoint}, range {range} is incorrect.\")\n",
    "\n",
    "# Check the Python tasks\n",
    "check_ranges('/home/mj33/LLMs_Program_Synthesis_Eval/example_code/Python/Python_tasks_checkpoints.json')\n",
    "\n",
    "# Check the Java tasks\n",
    "check_ranges('/home/mj33/LLMs_Program_Synthesis_Eval/example_code/Java/Java_tasks_checkpoints.json')"
   ]
  },
  {
   "cell_type": "code",
   "execution_count": 27,
   "metadata": {},
   "outputs": [
    {
     "name": "stdout",
     "output_type": "stream",
     "text": [
      "deepseek-coder-1.3b-instruct_with_afterlines_TopKTester_06_03_04_01.csv\n",
      "phi-3-mini-4k_with_afterlines_FactorizationTester_06_03_04_00.csv\n",
      "gpt-3.5-turbo-0125_with_afterlines_DoubleMatrixTester_06_03_04_02.csv\n",
      "deepseek-coder-7b-instruct_with_afterlines_RNGTester_06_03_04_04.csv\n",
      "deepseek-coder-1.3b-instruct_with_afterlines_RNGTester_06_03_04_03.csv\n",
      "deepseek-coder-7b-instruct_with_afterlines_SparseArrayTester_06_03_04_05.csv\n",
      "6\n"
     ]
    }
   ],
   "source": [
    "import pandas as pd\n",
    "import os\n",
    "\n",
    "# Directory containing the CSV files\n",
    "# directory = '/home/mj33/LLMs_Program_Synthesis_Eval/Analysis_Results/storage_server/Java_all_res/Completion/3rd_post_process_reason_update/error_folder'\n",
    "# directory = '/home/mj33/LLMs_Program_Synthesis_Eval/Analysis_Results/storage_server/Java_all_res/Infilling/3rd_post_process_reason_update/error_folder'\n",
    "\n",
    "# directory = '/home/mj33/LLMs_Program_Synthesis_Eval/Analysis_Results/storage_server/Java_all_res/Infilling/2nd_post_process/Updated_post_process'\n",
    "# directory = '/home/mj33/LLMs_Program_Synthesis_Eval/Analysis_Results/storage_server/Java_all_res/Completion/2nd_post_process/Updated_post_process'\n",
    "# directory = '/home/mj33/LLMs_Program_Synthesis_Eval/Analysis_Results/storage_server/Java_all_res/Infilling/3rd_post_process_reason_update/error_folder'\n",
    "# directory = '/home/mj33/LLMs_Program_Synthesis_Eval/Analysis_Results/storage_server/Python_all_res/Infilling/2nd_post_process/Updated_post_process'\n",
    "# directory = '/home/mj33/LLMs_Program_Synthesis_Eval/Analysis_Results/storage_server/Python_all_res/Completion/2nd_post_process/Updated_post_process'\n",
    "\n",
    "# directory = '/home/mj33/LLMs_Program_Synthesis_Eval/Analysis_Results/storage_server/Java_all_res/Infilling/3rd_post_process_reason_update/error_folder/DoubleMatrixTester/Updated_post_process'\n",
    "# directory = '/home/mj33/LLMs_Program_Synthesis_Eval/Analysis_Results/storage_server/Java_all_res/Infilling/3rd_post_process_reason_update/error_folder/Updated_post_process'\n",
    "# directory = '/home/mj33/LLMs_Program_Synthesis_Eval/Analysis_Results/storage_server/Java_all_res/Infilling/3rd_post_process_reason_update'\n",
    "\n",
    "directory = '/home/mj33/LLMs_Program_Synthesis_Eval/Analysis_Results/storage_server/Java_all_res/Infilling/4th_post_process_reason_update/Update_labels'\n",
    "# directory = '/home/mj33/LLMs_Program_Synthesis_Eval/Analysis_Results/storage_server/Java_all_res/Completion/4th_post_process_reason_update'\n",
    "# directory = '/home/mj33/LLMs_Program_Synthesis_Eval/Analysis_Results/storage_server/Python_all_res/Completion/4th_post_process_reason_update'\n",
    "# directory = '/home/mj33/LLMs_Program_Synthesis_Eval/Analysis_Results/storage_server/Python_all_res/Infilling/4th_post_process_reason_update'\n",
    "\n",
    "error_list = []\n",
    "for filename in os.listdir(directory):\n",
    "    if filename.endswith(\".csv\"):\n",
    "        # print(filename)\n",
    "        df = pd.read_csv(os.path.join(directory, filename))\n",
    "        if 'post_process_eval_res' in df.columns:\n",
    "            # if all(df['post_process_eval_res'].str.contains('Error: Compilation error:')):\n",
    "            if all(df['post_process_eval_res'].str.contains('Error', case=False)):\n",
    "                print(filename)\n",
    "                error_list.append(filename)\n",
    "print(len(error_list))"
   ]
  }
 ],
 "metadata": {
  "kernelspec": {
   "display_name": "Python 3",
   "language": "python",
   "name": "python3"
  },
  "language_info": {
   "codemirror_mode": {
    "name": "ipython",
    "version": 3
   },
   "file_extension": ".py",
   "mimetype": "text/x-python",
   "name": "python",
   "nbconvert_exporter": "python",
   "pygments_lexer": "ipython3",
   "version": "3.9.7"
  }
 },
 "nbformat": 4,
 "nbformat_minor": 2
}
