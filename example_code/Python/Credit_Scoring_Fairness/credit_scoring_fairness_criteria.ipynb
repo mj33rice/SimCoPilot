{
 "cells": [
  {
   "cell_type": "markdown",
   "metadata": {},
   "source": [
    "Credit Scoring Fairness Criteria"
   ]
  },
  {
   "cell_type": "code",
   "execution_count": 1,
   "metadata": {},
   "outputs": [],
   "source": [
    "#Load the dataset"
   ]
  },
  {
   "cell_type": "code",
   "execution_count": 2,
   "metadata": {},
   "outputs": [],
   "source": [
    "import pandas as pd\n",
    "import numpy as np\n",
    "import matplotlib.pyplot as plt\n",
    "import matplotlib.cm as cm"
   ]
  },
  {
   "cell_type": "markdown",
   "metadata": {},
   "source": [
    "Load the dataset"
   ]
  },
  {
   "cell_type": "code",
   "execution_count": 3,
   "metadata": {},
   "outputs": [
    {
     "name": "stdout",
     "output_type": "stream",
     "text": [
      "/home/mj33/LLMs_Program_Synthesis_Eval/example_code/Python/Credit_Scoring_Fairness\n",
      "/home/mj33/LLMs_Program_Synthesis_Eval/example_code/Python/Credit_Scoring_Fairness/./bankfullclean.csv\n"
     ]
    }
   ],
   "source": [
    "import os\n",
    "BANK_PATH = os.path.join(os.getcwd(), './bankfullclean.csv') # Assign this to the location of the dataset\n",
    "print(os.getcwd())\n",
    "print(BANK_PATH)\n",
    "\n",
    "# 5254 number of rows have 'biY' == 1\n",
    "# 39787 number of rows have 'biY' == 0\n"
   ]
  },
  {
   "cell_type": "code",
   "execution_count": 4,
   "metadata": {},
   "outputs": [
    {
     "data": {
      "text/html": [
       "<div>\n",
       "<style scoped>\n",
       "    .dataframe tbody tr th:only-of-type {\n",
       "        vertical-align: middle;\n",
       "    }\n",
       "\n",
       "    .dataframe tbody tr th {\n",
       "        vertical-align: top;\n",
       "    }\n",
       "\n",
       "    .dataframe thead th {\n",
       "        text-align: right;\n",
       "    }\n",
       "</style>\n",
       "<table border=\"1\" class=\"dataframe\">\n",
       "  <thead>\n",
       "    <tr style=\"text-align: right;\">\n",
       "      <th></th>\n",
       "      <th>Unnamed: 0</th>\n",
       "      <th>age</th>\n",
       "      <th>job</th>\n",
       "      <th>marital</th>\n",
       "      <th>education</th>\n",
       "      <th>default</th>\n",
       "      <th>balance</th>\n",
       "      <th>housing</th>\n",
       "      <th>loan</th>\n",
       "      <th>day</th>\n",
       "      <th>...</th>\n",
       "      <th>y</th>\n",
       "      <th>Fmonth</th>\n",
       "      <th>log_duration</th>\n",
       "      <th>log_campaign</th>\n",
       "      <th>catAge</th>\n",
       "      <th>biMarital</th>\n",
       "      <th>biDefault</th>\n",
       "      <th>biHousing</th>\n",
       "      <th>biLoan</th>\n",
       "      <th>biY</th>\n",
       "    </tr>\n",
       "  </thead>\n",
       "  <tbody>\n",
       "    <tr>\n",
       "      <th>0</th>\n",
       "      <td>1</td>\n",
       "      <td>58</td>\n",
       "      <td>management</td>\n",
       "      <td>married</td>\n",
       "      <td>tertiary</td>\n",
       "      <td>no</td>\n",
       "      <td>2143</td>\n",
       "      <td>yes</td>\n",
       "      <td>no</td>\n",
       "      <td>5</td>\n",
       "      <td>...</td>\n",
       "      <td>no</td>\n",
       "      <td>may</td>\n",
       "      <td>5.564520</td>\n",
       "      <td>0.0</td>\n",
       "      <td>&gt;=50</td>\n",
       "      <td>1</td>\n",
       "      <td>0</td>\n",
       "      <td>1</td>\n",
       "      <td>0</td>\n",
       "      <td>0</td>\n",
       "    </tr>\n",
       "    <tr>\n",
       "      <th>1</th>\n",
       "      <td>2</td>\n",
       "      <td>44</td>\n",
       "      <td>technician</td>\n",
       "      <td>single</td>\n",
       "      <td>secondary</td>\n",
       "      <td>no</td>\n",
       "      <td>29</td>\n",
       "      <td>yes</td>\n",
       "      <td>no</td>\n",
       "      <td>5</td>\n",
       "      <td>...</td>\n",
       "      <td>no</td>\n",
       "      <td>may</td>\n",
       "      <td>5.017280</td>\n",
       "      <td>0.0</td>\n",
       "      <td>40-50</td>\n",
       "      <td>0</td>\n",
       "      <td>0</td>\n",
       "      <td>1</td>\n",
       "      <td>0</td>\n",
       "      <td>0</td>\n",
       "    </tr>\n",
       "    <tr>\n",
       "      <th>2</th>\n",
       "      <td>3</td>\n",
       "      <td>33</td>\n",
       "      <td>entrepreneur</td>\n",
       "      <td>married</td>\n",
       "      <td>secondary</td>\n",
       "      <td>no</td>\n",
       "      <td>2</td>\n",
       "      <td>yes</td>\n",
       "      <td>yes</td>\n",
       "      <td>5</td>\n",
       "      <td>...</td>\n",
       "      <td>no</td>\n",
       "      <td>may</td>\n",
       "      <td>4.330733</td>\n",
       "      <td>0.0</td>\n",
       "      <td>30-40</td>\n",
       "      <td>1</td>\n",
       "      <td>0</td>\n",
       "      <td>1</td>\n",
       "      <td>1</td>\n",
       "      <td>0</td>\n",
       "    </tr>\n",
       "    <tr>\n",
       "      <th>3</th>\n",
       "      <td>4</td>\n",
       "      <td>47</td>\n",
       "      <td>blue-collar</td>\n",
       "      <td>married</td>\n",
       "      <td>secondary</td>\n",
       "      <td>no</td>\n",
       "      <td>1506</td>\n",
       "      <td>yes</td>\n",
       "      <td>no</td>\n",
       "      <td>5</td>\n",
       "      <td>...</td>\n",
       "      <td>no</td>\n",
       "      <td>may</td>\n",
       "      <td>4.521789</td>\n",
       "      <td>0.0</td>\n",
       "      <td>40-50</td>\n",
       "      <td>1</td>\n",
       "      <td>0</td>\n",
       "      <td>1</td>\n",
       "      <td>0</td>\n",
       "      <td>0</td>\n",
       "    </tr>\n",
       "    <tr>\n",
       "      <th>4</th>\n",
       "      <td>6</td>\n",
       "      <td>35</td>\n",
       "      <td>management</td>\n",
       "      <td>married</td>\n",
       "      <td>tertiary</td>\n",
       "      <td>no</td>\n",
       "      <td>231</td>\n",
       "      <td>yes</td>\n",
       "      <td>no</td>\n",
       "      <td>5</td>\n",
       "      <td>...</td>\n",
       "      <td>no</td>\n",
       "      <td>may</td>\n",
       "      <td>4.934474</td>\n",
       "      <td>0.0</td>\n",
       "      <td>30-40</td>\n",
       "      <td>1</td>\n",
       "      <td>0</td>\n",
       "      <td>1</td>\n",
       "      <td>0</td>\n",
       "      <td>0</td>\n",
       "    </tr>\n",
       "  </tbody>\n",
       "</table>\n",
       "<p>5 rows × 25 columns</p>\n",
       "</div>"
      ],
      "text/plain": [
       "   Unnamed: 0  age           job  marital  education default  balance housing  \\\n",
       "0           1   58    management  married   tertiary      no     2143     yes   \n",
       "1           2   44    technician   single  secondary      no       29     yes   \n",
       "2           3   33  entrepreneur  married  secondary      no        2     yes   \n",
       "3           4   47   blue-collar  married  secondary      no     1506     yes   \n",
       "4           6   35    management  married   tertiary      no      231     yes   \n",
       "\n",
       "  loan  day  ...   y  Fmonth  log_duration  log_campaign  catAge biMarital  \\\n",
       "0   no    5  ...  no     may      5.564520           0.0    >=50         1   \n",
       "1   no    5  ...  no     may      5.017280           0.0   40-50         0   \n",
       "2  yes    5  ...  no     may      4.330733           0.0   30-40         1   \n",
       "3   no    5  ...  no     may      4.521789           0.0   40-50         1   \n",
       "4   no    5  ...  no     may      4.934474           0.0   30-40         1   \n",
       "\n",
       "  biDefault  biHousing  biLoan biY  \n",
       "0         0          1       0   0  \n",
       "1         0          1       0   0  \n",
       "2         0          1       1   0  \n",
       "3         0          1       0   0  \n",
       "4         0          1       0   0  \n",
       "\n",
       "[5 rows x 25 columns]"
      ]
     },
     "execution_count": 4,
     "metadata": {},
     "output_type": "execute_result"
    }
   ],
   "source": [
    "bank = pd.read_csv(BANK_PATH)\n",
    "df = pd.DataFrame(bank)\n",
    "df.head()"
   ]
  },
  {
   "cell_type": "code",
   "execution_count": 5,
   "metadata": {},
   "outputs": [
    {
     "data": {
      "text/html": [
       "<div>\n",
       "<style scoped>\n",
       "    .dataframe tbody tr th:only-of-type {\n",
       "        vertical-align: middle;\n",
       "    }\n",
       "\n",
       "    .dataframe tbody tr th {\n",
       "        vertical-align: top;\n",
       "    }\n",
       "\n",
       "    .dataframe thead th {\n",
       "        text-align: right;\n",
       "    }\n",
       "</style>\n",
       "<table border=\"1\" class=\"dataframe\">\n",
       "  <thead>\n",
       "    <tr style=\"text-align: right;\">\n",
       "      <th></th>\n",
       "      <th>Unnamed: 0</th>\n",
       "      <th>age</th>\n",
       "      <th>job</th>\n",
       "      <th>marital</th>\n",
       "      <th>education</th>\n",
       "      <th>default</th>\n",
       "      <th>balance</th>\n",
       "      <th>housing</th>\n",
       "      <th>loan</th>\n",
       "      <th>day</th>\n",
       "      <th>...</th>\n",
       "      <th>y</th>\n",
       "      <th>Fmonth</th>\n",
       "      <th>log_duration</th>\n",
       "      <th>log_campaign</th>\n",
       "      <th>catAge</th>\n",
       "      <th>biMarital</th>\n",
       "      <th>biDefault</th>\n",
       "      <th>biHousing</th>\n",
       "      <th>biLoan</th>\n",
       "      <th>biY</th>\n",
       "    </tr>\n",
       "  </thead>\n",
       "  <tbody>\n",
       "    <tr>\n",
       "      <th>0</th>\n",
       "      <td>25108</td>\n",
       "      <td>42</td>\n",
       "      <td>housemaid</td>\n",
       "      <td>divorced</td>\n",
       "      <td>tertiary</td>\n",
       "      <td>no</td>\n",
       "      <td>364</td>\n",
       "      <td>no</td>\n",
       "      <td>no</td>\n",
       "      <td>18</td>\n",
       "      <td>...</td>\n",
       "      <td>no</td>\n",
       "      <td>nov</td>\n",
       "      <td>3.951244</td>\n",
       "      <td>0.000000</td>\n",
       "      <td>40-50</td>\n",
       "      <td>0</td>\n",
       "      <td>0</td>\n",
       "      <td>0</td>\n",
       "      <td>0</td>\n",
       "      <td>0</td>\n",
       "    </tr>\n",
       "    <tr>\n",
       "      <th>1</th>\n",
       "      <td>20138</td>\n",
       "      <td>60</td>\n",
       "      <td>retired</td>\n",
       "      <td>married</td>\n",
       "      <td>primary</td>\n",
       "      <td>no</td>\n",
       "      <td>115</td>\n",
       "      <td>no</td>\n",
       "      <td>no</td>\n",
       "      <td>11</td>\n",
       "      <td>...</td>\n",
       "      <td>no</td>\n",
       "      <td>aug</td>\n",
       "      <td>4.406719</td>\n",
       "      <td>0.693147</td>\n",
       "      <td>&gt;=50</td>\n",
       "      <td>1</td>\n",
       "      <td>0</td>\n",
       "      <td>0</td>\n",
       "      <td>0</td>\n",
       "      <td>0</td>\n",
       "    </tr>\n",
       "    <tr>\n",
       "      <th>2</th>\n",
       "      <td>33895</td>\n",
       "      <td>47</td>\n",
       "      <td>blue-collar</td>\n",
       "      <td>married</td>\n",
       "      <td>secondary</td>\n",
       "      <td>no</td>\n",
       "      <td>1230</td>\n",
       "      <td>yes</td>\n",
       "      <td>no</td>\n",
       "      <td>30</td>\n",
       "      <td>...</td>\n",
       "      <td>yes</td>\n",
       "      <td>apr</td>\n",
       "      <td>6.021023</td>\n",
       "      <td>0.000000</td>\n",
       "      <td>40-50</td>\n",
       "      <td>1</td>\n",
       "      <td>0</td>\n",
       "      <td>1</td>\n",
       "      <td>0</td>\n",
       "      <td>1</td>\n",
       "    </tr>\n",
       "    <tr>\n",
       "      <th>3</th>\n",
       "      <td>23385</td>\n",
       "      <td>53</td>\n",
       "      <td>technician</td>\n",
       "      <td>divorced</td>\n",
       "      <td>secondary</td>\n",
       "      <td>no</td>\n",
       "      <td>28</td>\n",
       "      <td>no</td>\n",
       "      <td>no</td>\n",
       "      <td>27</td>\n",
       "      <td>...</td>\n",
       "      <td>no</td>\n",
       "      <td>aug</td>\n",
       "      <td>5.680173</td>\n",
       "      <td>2.197225</td>\n",
       "      <td>&gt;=50</td>\n",
       "      <td>0</td>\n",
       "      <td>0</td>\n",
       "      <td>0</td>\n",
       "      <td>0</td>\n",
       "      <td>0</td>\n",
       "    </tr>\n",
       "    <tr>\n",
       "      <th>4</th>\n",
       "      <td>12293</td>\n",
       "      <td>47</td>\n",
       "      <td>retired</td>\n",
       "      <td>married</td>\n",
       "      <td>primary</td>\n",
       "      <td>no</td>\n",
       "      <td>-468</td>\n",
       "      <td>no</td>\n",
       "      <td>yes</td>\n",
       "      <td>25</td>\n",
       "      <td>...</td>\n",
       "      <td>no</td>\n",
       "      <td>jun</td>\n",
       "      <td>5.590987</td>\n",
       "      <td>0.000000</td>\n",
       "      <td>40-50</td>\n",
       "      <td>1</td>\n",
       "      <td>0</td>\n",
       "      <td>0</td>\n",
       "      <td>1</td>\n",
       "      <td>0</td>\n",
       "    </tr>\n",
       "    <tr>\n",
       "      <th>...</th>\n",
       "      <td>...</td>\n",
       "      <td>...</td>\n",
       "      <td>...</td>\n",
       "      <td>...</td>\n",
       "      <td>...</td>\n",
       "      <td>...</td>\n",
       "      <td>...</td>\n",
       "      <td>...</td>\n",
       "      <td>...</td>\n",
       "      <td>...</td>\n",
       "      <td>...</td>\n",
       "      <td>...</td>\n",
       "      <td>...</td>\n",
       "      <td>...</td>\n",
       "      <td>...</td>\n",
       "      <td>...</td>\n",
       "      <td>...</td>\n",
       "      <td>...</td>\n",
       "      <td>...</td>\n",
       "      <td>...</td>\n",
       "      <td>...</td>\n",
       "    </tr>\n",
       "    <tr>\n",
       "      <th>495</th>\n",
       "      <td>10559</td>\n",
       "      <td>60</td>\n",
       "      <td>admin.</td>\n",
       "      <td>married</td>\n",
       "      <td>secondary</td>\n",
       "      <td>no</td>\n",
       "      <td>504</td>\n",
       "      <td>no</td>\n",
       "      <td>no</td>\n",
       "      <td>16</td>\n",
       "      <td>...</td>\n",
       "      <td>no</td>\n",
       "      <td>jun</td>\n",
       "      <td>5.181784</td>\n",
       "      <td>1.386294</td>\n",
       "      <td>&gt;=50</td>\n",
       "      <td>1</td>\n",
       "      <td>0</td>\n",
       "      <td>0</td>\n",
       "      <td>0</td>\n",
       "      <td>0</td>\n",
       "    </tr>\n",
       "    <tr>\n",
       "      <th>496</th>\n",
       "      <td>34110</td>\n",
       "      <td>54</td>\n",
       "      <td>management</td>\n",
       "      <td>married</td>\n",
       "      <td>tertiary</td>\n",
       "      <td>no</td>\n",
       "      <td>1014</td>\n",
       "      <td>no</td>\n",
       "      <td>yes</td>\n",
       "      <td>30</td>\n",
       "      <td>...</td>\n",
       "      <td>yes</td>\n",
       "      <td>apr</td>\n",
       "      <td>5.480639</td>\n",
       "      <td>0.000000</td>\n",
       "      <td>&gt;=50</td>\n",
       "      <td>1</td>\n",
       "      <td>0</td>\n",
       "      <td>0</td>\n",
       "      <td>1</td>\n",
       "      <td>1</td>\n",
       "    </tr>\n",
       "    <tr>\n",
       "      <th>497</th>\n",
       "      <td>18042</td>\n",
       "      <td>46</td>\n",
       "      <td>technician</td>\n",
       "      <td>divorced</td>\n",
       "      <td>secondary</td>\n",
       "      <td>no</td>\n",
       "      <td>2862</td>\n",
       "      <td>yes</td>\n",
       "      <td>yes</td>\n",
       "      <td>30</td>\n",
       "      <td>...</td>\n",
       "      <td>no</td>\n",
       "      <td>jul</td>\n",
       "      <td>4.882802</td>\n",
       "      <td>1.098612</td>\n",
       "      <td>40-50</td>\n",
       "      <td>0</td>\n",
       "      <td>0</td>\n",
       "      <td>1</td>\n",
       "      <td>1</td>\n",
       "      <td>0</td>\n",
       "    </tr>\n",
       "    <tr>\n",
       "      <th>498</th>\n",
       "      <td>2330</td>\n",
       "      <td>44</td>\n",
       "      <td>technician</td>\n",
       "      <td>single</td>\n",
       "      <td>tertiary</td>\n",
       "      <td>no</td>\n",
       "      <td>166</td>\n",
       "      <td>yes</td>\n",
       "      <td>no</td>\n",
       "      <td>13</td>\n",
       "      <td>...</td>\n",
       "      <td>no</td>\n",
       "      <td>may</td>\n",
       "      <td>5.587249</td>\n",
       "      <td>1.098612</td>\n",
       "      <td>40-50</td>\n",
       "      <td>0</td>\n",
       "      <td>0</td>\n",
       "      <td>1</td>\n",
       "      <td>0</td>\n",
       "      <td>0</td>\n",
       "    </tr>\n",
       "    <tr>\n",
       "      <th>499</th>\n",
       "      <td>32680</td>\n",
       "      <td>31</td>\n",
       "      <td>technician</td>\n",
       "      <td>single</td>\n",
       "      <td>tertiary</td>\n",
       "      <td>no</td>\n",
       "      <td>985</td>\n",
       "      <td>yes</td>\n",
       "      <td>no</td>\n",
       "      <td>17</td>\n",
       "      <td>...</td>\n",
       "      <td>yes</td>\n",
       "      <td>apr</td>\n",
       "      <td>6.904751</td>\n",
       "      <td>0.000000</td>\n",
       "      <td>30-40</td>\n",
       "      <td>0</td>\n",
       "      <td>0</td>\n",
       "      <td>1</td>\n",
       "      <td>0</td>\n",
       "      <td>1</td>\n",
       "    </tr>\n",
       "  </tbody>\n",
       "</table>\n",
       "<p>500 rows × 25 columns</p>\n",
       "</div>"
      ],
      "text/plain": [
       "     Unnamed: 0  age          job   marital  education default  balance  \\\n",
       "0         25108   42    housemaid  divorced   tertiary      no      364   \n",
       "1         20138   60      retired   married    primary      no      115   \n",
       "2         33895   47  blue-collar   married  secondary      no     1230   \n",
       "3         23385   53   technician  divorced  secondary      no       28   \n",
       "4         12293   47      retired   married    primary      no     -468   \n",
       "..          ...  ...          ...       ...        ...     ...      ...   \n",
       "495       10559   60       admin.   married  secondary      no      504   \n",
       "496       34110   54   management   married   tertiary      no     1014   \n",
       "497       18042   46   technician  divorced  secondary      no     2862   \n",
       "498        2330   44   technician    single   tertiary      no      166   \n",
       "499       32680   31   technician    single   tertiary      no      985   \n",
       "\n",
       "    housing loan  day  ...    y  Fmonth  log_duration  log_campaign  catAge  \\\n",
       "0        no   no   18  ...   no     nov      3.951244      0.000000   40-50   \n",
       "1        no   no   11  ...   no     aug      4.406719      0.693147    >=50   \n",
       "2       yes   no   30  ...  yes     apr      6.021023      0.000000   40-50   \n",
       "3        no   no   27  ...   no     aug      5.680173      2.197225    >=50   \n",
       "4        no  yes   25  ...   no     jun      5.590987      0.000000   40-50   \n",
       "..      ...  ...  ...  ...  ...     ...           ...           ...     ...   \n",
       "495      no   no   16  ...   no     jun      5.181784      1.386294    >=50   \n",
       "496      no  yes   30  ...  yes     apr      5.480639      0.000000    >=50   \n",
       "497     yes  yes   30  ...   no     jul      4.882802      1.098612   40-50   \n",
       "498     yes   no   13  ...   no     may      5.587249      1.098612   40-50   \n",
       "499     yes   no   17  ...  yes     apr      6.904751      0.000000   30-40   \n",
       "\n",
       "    biMarital biDefault  biHousing  biLoan biY  \n",
       "0           0         0          0       0   0  \n",
       "1           1         0          0       0   0  \n",
       "2           1         0          1       0   1  \n",
       "3           0         0          0       0   0  \n",
       "4           1         0          0       1   0  \n",
       "..        ...       ...        ...     ...  ..  \n",
       "495         1         0          0       0   0  \n",
       "496         1         0          0       1   1  \n",
       "497         0         0          1       1   0  \n",
       "498         0         0          1       0   0  \n",
       "499         0         0          1       0   1  \n",
       "\n",
       "[500 rows x 25 columns]"
      ]
     },
     "execution_count": 5,
     "metadata": {},
     "output_type": "execute_result"
    }
   ],
   "source": [
    "df =  df.sample(n=500, random_state=1234).reset_index(drop=True)\n",
    "df"
   ]
  },
  {
   "cell_type": "code",
   "execution_count": 6,
   "metadata": {},
   "outputs": [
    {
     "data": {
      "text/plain": [
       "array(['balance', 'day', 'duration', 'campaign', 'pdays', 'previous',\n",
       "       'biDefault', 'biHousing', 'biLoan', 'catAge_30-40', 'catAge_40-50',\n",
       "       'catAge_<=30', 'catAge_>=50', 'job_admin.', 'job_blue-collar',\n",
       "       'job_entrepreneur', 'job_housemaid', 'job_management',\n",
       "       'job_retired', 'job_self-employed', 'job_services', 'job_student',\n",
       "       'job_technician', 'job_unemployed', 'marital_divorced',\n",
       "       'marital_married', 'marital_single', 'education_primary',\n",
       "       'education_secondary', 'education_tertiary', 'month_apr',\n",
       "       'month_aug', 'month_dec', 'month_feb', 'month_jan', 'month_jul',\n",
       "       'month_jun', 'month_mar', 'month_may', 'month_nov', 'month_oct',\n",
       "       'month_sep', 'Fmonth_apr', 'Fmonth_aug', 'Fmonth_dec',\n",
       "       'Fmonth_feb', 'Fmonth_jan', 'Fmonth_jul', 'Fmonth_jun',\n",
       "       'Fmonth_mar', 'Fmonth_may', 'Fmonth_nov', 'Fmonth_oct'],\n",
       "      dtype=object)"
      ]
     },
     "execution_count": 6,
     "metadata": {},
     "output_type": "execute_result"
    }
   ],
   "source": [
    "\n",
    "\n",
    "dummy = df[['catAge', 'job', 'marital','education','balance','day', 'month', 'duration', 'campaign', 'pdays', 'previous', 'Fmonth', 'biDefault', 'biHousing', 'biLoan']]\n",
    "# dummy.columns.values\n",
    "dummy = pd.get_dummies(data=dummy)\n",
    "# dummy.head()\n",
    "dummy.columns.values\n",
    "# df['marital'].unique()\n",
    "\n",
    "# df['biY'].replace({0: False, 1: True}, inplace=True)\n",
    "# print(df['biY'])\n"
   ]
  },
  {
   "cell_type": "markdown",
   "metadata": {},
   "source": [
    "Machine Learning Classification Model"
   ]
  },
  {
   "cell_type": "code",
   "execution_count": 7,
   "metadata": {},
   "outputs": [],
   "source": [
    "from sklearn.model_selection import train_test_split"
   ]
  },
  {
   "cell_type": "code",
   "execution_count": 8,
   "metadata": {},
   "outputs": [],
   "source": [
    "def get_naive_dataset(dataset):\n",
    "    dataset = dataset.sample(frac=1, random_state=1234).reset_index(drop=True)\n",
    "    X = dummy\n",
    "    y = dataset['biY']\n",
    "    x_train, x_test, y_train, y_test = train_test_split(X, y, test_size=0.2, random_state=1234)\n",
    "    \n",
    "    return (x_train, y_train), (x_test, y_test)\n"
   ]
  },
  {
   "cell_type": "code",
   "execution_count": 9,
   "metadata": {},
   "outputs": [
    {
     "data": {
      "text/plain": [
       "(100, 53)"
      ]
     },
     "execution_count": 9,
     "metadata": {},
     "output_type": "execute_result"
    }
   ],
   "source": [
    "(x_train, y_train), (x_test, y_test) = get_naive_dataset(df)\n",
    "x_train.shape\n",
    "x_test.shape"
   ]
  },
  {
   "cell_type": "code",
   "execution_count": 10,
   "metadata": {},
   "outputs": [
    {
     "data": {
      "text/plain": [
       "array(['balance', 'day', 'duration', 'campaign', 'pdays', 'previous',\n",
       "       'biDefault', 'biHousing', 'biLoan', 'catAge_30-40', 'catAge_40-50',\n",
       "       'catAge_<=30', 'catAge_>=50', 'job_admin.', 'job_blue-collar',\n",
       "       'job_entrepreneur', 'job_housemaid', 'job_management',\n",
       "       'job_retired', 'job_self-employed', 'job_services', 'job_student',\n",
       "       'job_technician', 'job_unemployed', 'marital_divorced',\n",
       "       'marital_married', 'marital_single', 'education_primary',\n",
       "       'education_secondary', 'education_tertiary', 'month_apr',\n",
       "       'month_aug', 'month_dec', 'month_feb', 'month_jan', 'month_jul',\n",
       "       'month_jun', 'month_mar', 'month_may', 'month_nov', 'month_oct',\n",
       "       'month_sep', 'Fmonth_apr', 'Fmonth_aug', 'Fmonth_dec',\n",
       "       'Fmonth_feb', 'Fmonth_jan', 'Fmonth_jul', 'Fmonth_jun',\n",
       "       'Fmonth_mar', 'Fmonth_may', 'Fmonth_nov', 'Fmonth_oct'],\n",
       "      dtype=object)"
      ]
     },
     "execution_count": 10,
     "metadata": {},
     "output_type": "execute_result"
    }
   ],
   "source": [
    "x_train.columns.values"
   ]
  },
  {
   "cell_type": "code",
   "execution_count": 11,
   "metadata": {},
   "outputs": [
    {
     "data": {
      "text/plain": [
       "array([0, 0, 0, 0, 0, 0, 0, 0, 0, 0, 0, 0, 0, 0, 1, 0, 0, 1, 1, 0, 1, 0,\n",
       "       0, 0, 0, 1, 0, 0, 0, 0, 0, 0, 0, 0, 0, 0, 0, 0, 0, 0, 0, 0, 0, 0,\n",
       "       0, 1, 0, 0, 0, 0, 0, 1, 0, 0, 0, 0, 0, 0, 0, 0, 0, 0, 0, 0, 0, 0,\n",
       "       0, 0, 0, 0, 1, 0, 1, 0, 0, 1, 0, 0, 0, 0, 0, 1, 0, 0, 1, 0, 0, 0,\n",
       "       0, 0, 0, 0, 1, 0, 0, 0, 0, 1, 0, 0, 0, 1, 1, 0, 0, 0, 1, 0, 0, 0,\n",
       "       0, 0, 0, 0, 0, 0, 0, 0, 0, 1, 1, 0, 0, 0, 0, 0, 0, 0, 0, 1, 0, 0,\n",
       "       0, 1, 0, 0, 0, 0, 0, 0, 0, 0, 0, 0, 0, 0, 0, 0, 0, 0, 0, 0, 0, 0,\n",
       "       0, 0, 0, 1, 0, 0, 0, 0, 0, 0, 0, 0, 0, 0, 0, 0, 0, 0, 0, 0, 0, 0,\n",
       "       0, 0, 0, 0, 0, 0, 0, 0, 0, 0, 1, 1, 0, 0, 0, 0, 0, 0, 0, 0, 0, 0,\n",
       "       0, 0, 0, 1, 0, 0, 0, 0, 0, 0, 1, 0, 0, 0, 0, 1, 0, 0, 0, 0, 0, 0,\n",
       "       0, 0, 1, 0, 0, 0, 0, 0, 1, 0, 0, 0, 0, 0, 0, 0, 0, 0, 0, 0, 0, 0,\n",
       "       0, 0, 0, 0, 0, 0, 0, 0, 1, 0, 0, 1, 0, 0, 0, 0, 0, 0, 0, 0, 0, 0,\n",
       "       0, 0, 0, 0, 0, 0, 0, 0, 1, 0, 0, 0, 0, 0, 0, 0, 0, 0, 0, 0, 0, 0,\n",
       "       0, 0, 0, 0, 0, 0, 0, 0, 0, 0, 0, 0, 0, 0, 1, 0, 0, 0, 0, 0, 0, 0,\n",
       "       0, 0, 0, 0, 0, 1, 0, 0, 0, 0, 0, 0, 1, 0, 0, 0, 0, 0, 1, 0, 0, 0,\n",
       "       1, 0, 0, 0, 0, 0, 0, 0, 1, 0, 0, 0, 0, 0, 1, 0, 1, 0, 0, 0, 0, 0,\n",
       "       0, 0, 0, 0, 0, 0, 0, 0, 0, 0, 0, 0, 0, 0, 1, 0, 1, 0, 0, 0, 0, 0,\n",
       "       0, 0, 0, 0, 1, 0, 0, 0, 0, 0, 0, 0, 0, 0, 0, 0, 0, 0, 0, 0, 0, 0,\n",
       "       1, 0, 0, 0])"
      ]
     },
     "execution_count": 11,
     "metadata": {},
     "output_type": "execute_result"
    }
   ],
   "source": [
    "y_train.values"
   ]
  },
  {
   "cell_type": "code",
   "execution_count": 12,
   "metadata": {},
   "outputs": [
    {
     "data": {
      "text/plain": [
       "array(['balance', 'day', 'duration', 'campaign', 'pdays', 'previous',\n",
       "       'biDefault', 'biHousing', 'biLoan', 'catAge_30-40', 'catAge_40-50',\n",
       "       'catAge_<=30', 'catAge_>=50', 'job_admin.', 'job_blue-collar',\n",
       "       'job_entrepreneur', 'job_housemaid', 'job_management',\n",
       "       'job_retired', 'job_self-employed', 'job_services', 'job_student',\n",
       "       'job_technician', 'job_unemployed', 'marital_divorced',\n",
       "       'marital_married', 'marital_single', 'education_primary',\n",
       "       'education_secondary', 'education_tertiary', 'month_apr',\n",
       "       'month_aug', 'month_dec', 'month_feb', 'month_jan', 'month_jul',\n",
       "       'month_jun', 'month_mar', 'month_may', 'month_nov', 'month_oct',\n",
       "       'month_sep', 'Fmonth_apr', 'Fmonth_aug', 'Fmonth_dec',\n",
       "       'Fmonth_feb', 'Fmonth_jan', 'Fmonth_jul', 'Fmonth_jun',\n",
       "       'Fmonth_mar', 'Fmonth_may', 'Fmonth_nov', 'Fmonth_oct'],\n",
       "      dtype=object)"
      ]
     },
     "execution_count": 12,
     "metadata": {},
     "output_type": "execute_result"
    }
   ],
   "source": [
    "x_test.columns.values"
   ]
  },
  {
   "cell_type": "code",
   "execution_count": 13,
   "metadata": {},
   "outputs": [
    {
     "data": {
      "text/plain": [
       "array([0, 0, 0, 0, 0, 0, 0, 0, 1, 1, 0, 0, 0, 0, 1, 0, 0, 0, 0, 0, 0, 1,\n",
       "       0, 0, 0, 0, 1, 0, 0, 0, 0, 0, 0, 0, 0, 0, 0, 1, 0, 0, 1, 0, 0, 1,\n",
       "       0, 0, 0, 0, 0, 0, 0, 0, 0, 0, 0, 0, 0, 0, 0, 0, 0, 0, 0, 0, 0, 1,\n",
       "       0, 0, 0, 0, 0, 0, 0, 0, 0, 0, 0, 0, 1, 0, 0, 0, 0, 0, 0, 1, 0, 0,\n",
       "       0, 0, 1, 0, 0, 0, 0, 0, 0, 0, 0, 0])"
      ]
     },
     "execution_count": 13,
     "metadata": {},
     "output_type": "execute_result"
    }
   ],
   "source": [
    "y_test.values"
   ]
  },
  {
   "cell_type": "markdown",
   "metadata": {},
   "source": [
    "Naive Bayes Model"
   ]
  },
  {
   "cell_type": "code",
   "execution_count": 14,
   "metadata": {},
   "outputs": [],
   "source": [
    "from sklearn.naive_bayes import GaussianNB\n",
    "gnb = GaussianNB()\n",
    "gnb_pred = gnb.fit(x_train, y_train).predict(x_test)"
   ]
  },
  {
   "cell_type": "markdown",
   "metadata": {},
   "source": [
    "Result"
   ]
  },
  {
   "cell_type": "code",
   "execution_count": 15,
   "metadata": {},
   "outputs": [
    {
     "data": {
      "text/plain": [
       "array(['balance', 'day', 'duration', 'campaign', 'pdays', 'previous',\n",
       "       'biDefault', 'biHousing', 'biLoan', 'catAge_30-40', 'catAge_40-50',\n",
       "       'catAge_<=30', 'catAge_>=50', 'job_admin.', 'job_blue-collar',\n",
       "       'job_entrepreneur', 'job_housemaid', 'job_management',\n",
       "       'job_retired', 'job_self-employed', 'job_services', 'job_student',\n",
       "       'job_technician', 'job_unemployed', 'marital_divorced',\n",
       "       'marital_married', 'marital_single', 'education_primary',\n",
       "       'education_secondary', 'education_tertiary', 'month_apr',\n",
       "       'month_aug', 'month_dec', 'month_feb', 'month_jan', 'month_jul',\n",
       "       'month_jun', 'month_mar', 'month_may', 'month_nov', 'month_oct',\n",
       "       'month_sep', 'Fmonth_apr', 'Fmonth_aug', 'Fmonth_dec',\n",
       "       'Fmonth_feb', 'Fmonth_jan', 'Fmonth_jul', 'Fmonth_jun',\n",
       "       'Fmonth_mar', 'Fmonth_may', 'Fmonth_nov', 'Fmonth_oct', 'biY',\n",
       "       'pred', 'accurate'], dtype=object)"
      ]
     },
     "execution_count": 15,
     "metadata": {},
     "output_type": "execute_result"
    }
   ],
   "source": [
    "test_df = x_test.copy()\n",
    "test_df['biY'] = y_test\n",
    "test_df['pred'] = pd.Series(gnb_pred, index=test_df.index)\n",
    "test_df['accurate'] = (test_df['pred'] == test_df['biY'])\n",
    "test_df.columns.values"
   ]
  },
  {
   "cell_type": "code",
   "execution_count": 16,
   "metadata": {},
   "outputs": [],
   "source": [
    "from sklearn.metrics import confusion_matrix"
   ]
  },
  {
   "cell_type": "code",
   "execution_count": 17,
   "metadata": {},
   "outputs": [
    {
     "data": {
      "text/plain": [
       "array([[44, 44],\n",
       "       [ 7,  5]])"
      ]
     },
     "execution_count": 17,
     "metadata": {},
     "output_type": "execute_result"
    }
   ],
   "source": [
    "\n",
    "confusion_matrix = confusion_matrix(test_df['biY'], test_df['pred'])\n",
    "confusion_matrix"
   ]
  },
  {
   "cell_type": "code",
   "execution_count": 18,
   "metadata": {},
   "outputs": [
    {
     "data": {
      "text/plain": [
       "0.49"
      ]
     },
     "execution_count": 18,
     "metadata": {},
     "output_type": "execute_result"
    }
   ],
   "source": [
    "# Accuracy\n",
    "# \"Accuracy: \", test_df.accurate.mean()\n",
    "accuracy_naive_bayes = (confusion_matrix[0][0] + confusion_matrix[1][1]) / (confusion_matrix[0][0] + confusion_matrix[0][1] + confusion_matrix[1][0] + confusion_matrix[1][1])\n",
    "accuracy_naive_bayes\n",
    "\n"
   ]
  },
  {
   "cell_type": "code",
   "execution_count": 19,
   "metadata": {},
   "outputs": [],
   "source": [
    "# Split dataset based on marital status\n",
    "test_df.columns.values\n",
    "test_married = x_test[x_test['marital_married'] == 1]\n",
    "test_single = x_test[x_test['marital_single'] == 1]\n",
    "test_divorced = x_test[x_test['marital_divorced'] == 1]"
   ]
  },
  {
   "cell_type": "code",
   "execution_count": 20,
   "metadata": {},
   "outputs": [
    {
     "data": {
      "text/plain": [
       "array([[ 8, 20],\n",
       "       [ 2,  1]])"
      ]
     },
     "execution_count": 20,
     "metadata": {},
     "output_type": "execute_result"
    }
   ],
   "source": [
    "# Test on single subset\n",
    "gnb_pred_single = gnb.fit(x_train, y_train).predict(test_single)\n",
    "\n",
    "test_df = test_single.copy()\n",
    "test_df['biY'] = y_test\n",
    "test_df['pred'] = pd.Series(gnb_pred_single, index=test_df.index)\n",
    "test_df['accurate'] = (test_df['pred'] == test_df['biY'])\n",
    "\n",
    "from sklearn.metrics import confusion_matrix\n",
    "\n",
    "confusion_matrix_single = confusion_matrix(test_df['biY'], test_df['pred'])\n",
    "confusion_matrix_single\n"
   ]
  },
  {
   "cell_type": "code",
   "execution_count": 21,
   "metadata": {},
   "outputs": [
    {
     "data": {
      "text/plain": [
       "0.2903225806451613"
      ]
     },
     "execution_count": 21,
     "metadata": {},
     "output_type": "execute_result"
    }
   ],
   "source": [
    "accuracy_naive_bayes_single = (confusion_matrix_single[0][0] + confusion_matrix_single[1][1]) / (confusion_matrix_single[0][0] + confusion_matrix_single[0][1] + confusion_matrix_single[1][0] + confusion_matrix_single[1][1])\n",
    "accuracy_naive_bayes_single"
   ]
  },
  {
   "cell_type": "code",
   "execution_count": 22,
   "metadata": {},
   "outputs": [
    {
     "data": {
      "text/plain": [
       "array([[26, 21],\n",
       "       [ 5,  4]])"
      ]
     },
     "execution_count": 22,
     "metadata": {},
     "output_type": "execute_result"
    }
   ],
   "source": [
    "# Test on married subset\n",
    "gnb_pred_married = gnb.fit(x_train, y_train).predict(test_married)\n",
    "\n",
    "test_df = test_married.copy()\n",
    "test_df['biY'] = y_test\n",
    "test_df['pred'] = pd.Series(gnb_pred_married, index=test_df.index)\n",
    "test_df['accurate'] = (test_df['pred'] == test_df['biY'])\n",
    "\n",
    "from sklearn.metrics import confusion_matrix\n",
    "\n",
    "confusion_matrix_married = confusion_matrix(test_df['biY'], test_df['pred'])\n",
    "confusion_matrix_married"
   ]
  },
  {
   "cell_type": "code",
   "execution_count": 23,
   "metadata": {},
   "outputs": [
    {
     "data": {
      "text/plain": [
       "0.5357142857142857"
      ]
     },
     "execution_count": 23,
     "metadata": {},
     "output_type": "execute_result"
    }
   ],
   "source": [
    "accuracy_naive_bayes_married = (confusion_matrix_married[0][0] + confusion_matrix_married[1][1]) / (confusion_matrix_married[0][0] + confusion_matrix_married[0][1] + confusion_matrix_married[1][0] + confusion_matrix_married[1][1])\n",
    "accuracy_naive_bayes_married "
   ]
  },
  {
   "cell_type": "code",
   "execution_count": 24,
   "metadata": {},
   "outputs": [
    {
     "data": {
      "text/plain": [
       "array([[10,  3],\n",
       "       [ 0,  0]])"
      ]
     },
     "execution_count": 24,
     "metadata": {},
     "output_type": "execute_result"
    }
   ],
   "source": [
    "# Test on divorced subset\n",
    "gnb_pred_divorced = gnb.fit(x_train, y_train).predict(test_divorced)\n",
    "\n",
    "test_df = test_divorced.copy()\n",
    "test_df['biY'] = y_test\n",
    "test_df['pred'] = pd.Series(gnb_pred_divorced, index=test_df.index)\n",
    "test_df['accurate'] = (test_df['pred'] == test_df['biY'])\n",
    "\n",
    "from sklearn.metrics import confusion_matrix\n",
    "\n",
    "confusion_matrix_divorced = confusion_matrix(test_df['biY'], test_df['pred'])\n",
    "confusion_matrix_divorced"
   ]
  },
  {
   "cell_type": "code",
   "execution_count": 25,
   "metadata": {},
   "outputs": [
    {
     "data": {
      "text/plain": [
       "0.7692307692307693"
      ]
     },
     "execution_count": 25,
     "metadata": {},
     "output_type": "execute_result"
    }
   ],
   "source": [
    "accuracy_naive_bayes_divorced = (confusion_matrix_divorced[0][0] + confusion_matrix_divorced[1][1]) / (confusion_matrix_divorced[0][0] + confusion_matrix_divorced[0][1] + confusion_matrix_divorced[1][0] + confusion_matrix_divorced[1][1])\n",
    "accuracy_naive_bayes_divorced # 0.8718606782768102"
   ]
  },
  {
   "cell_type": "code",
   "execution_count": 26,
   "metadata": {},
   "outputs": [
    {
     "data": {
      "text/plain": [
       "30"
      ]
     },
     "execution_count": 26,
     "metadata": {},
     "output_type": "execute_result"
    }
   ],
   "source": [
    "#Demographic Parity\n",
    "# positive rate = TP + TN\n",
    "PR_Naive_Bayes_married = confusion_matrix_married[0,0] +confusion_matrix_married[1,1]\n",
    "\n",
    "PR_Naive_Bayes_married \n"
   ]
  },
  {
   "cell_type": "code",
   "execution_count": 27,
   "metadata": {},
   "outputs": [
    {
     "data": {
      "text/plain": [
       "9"
      ]
     },
     "execution_count": 27,
     "metadata": {},
     "output_type": "execute_result"
    }
   ],
   "source": [
    "PR_Naive_Bayes_single = confusion_matrix_single[0,0] +confusion_matrix_single[1,1]\n",
    "PR_Naive_Bayes_single "
   ]
  },
  {
   "cell_type": "code",
   "execution_count": 28,
   "metadata": {},
   "outputs": [
    {
     "data": {
      "text/plain": [
       "10"
      ]
     },
     "execution_count": 28,
     "metadata": {},
     "output_type": "execute_result"
    }
   ],
   "source": [
    "PR_Naive_Bayes_divorced = confusion_matrix_divorced[0,0] +confusion_matrix_divorced[1,1]\n",
    "PR_Naive_Bayes_divorced "
   ]
  },
  {
   "cell_type": "code",
   "execution_count": 29,
   "metadata": {},
   "outputs": [
    {
     "data": {
      "text/plain": [
       "0.8387096774193549"
      ]
     },
     "execution_count": 29,
     "metadata": {},
     "output_type": "execute_result"
    }
   ],
   "source": [
    "# Equalized Opportunity\n",
    "#TPR = TP/TP+FN\n",
    "\n",
    "TPR_Naive_Bayes_married = confusion_matrix_married[0,0] / (confusion_matrix_married[0,0] + confusion_matrix_married[1,0])\n",
    "\n",
    "TPR_Naive_Bayes_married \n"
   ]
  },
  {
   "cell_type": "code",
   "execution_count": 30,
   "metadata": {},
   "outputs": [
    {
     "data": {
      "text/plain": [
       "0.8"
      ]
     },
     "execution_count": 30,
     "metadata": {},
     "output_type": "execute_result"
    }
   ],
   "source": [
    "TPR_Naive_Bayes_single = confusion_matrix_single[0,0] / (confusion_matrix_single[0,0] + confusion_matrix_single[1,0])\n",
    "\n",
    "TPR_Naive_Bayes_single "
   ]
  },
  {
   "cell_type": "code",
   "execution_count": 31,
   "metadata": {},
   "outputs": [
    {
     "data": {
      "text/plain": [
       "1.0"
      ]
     },
     "execution_count": 31,
     "metadata": {},
     "output_type": "execute_result"
    }
   ],
   "source": [
    "TPR_Naive_Bayes_divorced = confusion_matrix_divorced[0,0] / (confusion_matrix_divorced[0,0] + confusion_matrix_divorced[1,0])\n",
    "\n",
    "TPR_Naive_Bayes_divorced # 0.8925619834710744"
   ]
  },
  {
   "cell_type": "code",
   "execution_count": 32,
   "metadata": {},
   "outputs": [
    {
     "data": {
      "text/plain": [
       "0.16129032258064516"
      ]
     },
     "execution_count": 32,
     "metadata": {},
     "output_type": "execute_result"
    }
   ],
   "source": [
    "# Equalized Odds\n",
    "#TPR = TP/TP+FN\n",
    "#FNR = FN/FN+TP\n",
    "\n",
    "\n",
    "FNR_Naive_Bayes_married = confusion_matrix_married[1,0] / (confusion_matrix_married[1,0] + confusion_matrix_married[0,0])\n",
    "\n",
    "FNR_Naive_Bayes_married \n",
    "\n"
   ]
  },
  {
   "cell_type": "code",
   "execution_count": 33,
   "metadata": {},
   "outputs": [
    {
     "data": {
      "text/plain": [
       "0.2"
      ]
     },
     "execution_count": 33,
     "metadata": {},
     "output_type": "execute_result"
    }
   ],
   "source": [
    "FNR_Naive_Bayes_single = confusion_matrix_single[1,0] / (confusion_matrix_single[1,0] + confusion_matrix_single[0,0])\n",
    "\n",
    "FNR_Naive_Bayes_single "
   ]
  },
  {
   "cell_type": "code",
   "execution_count": 34,
   "metadata": {},
   "outputs": [
    {
     "data": {
      "text/plain": [
       "0.0"
      ]
     },
     "execution_count": 34,
     "metadata": {},
     "output_type": "execute_result"
    }
   ],
   "source": [
    "FNR_Naive_Bayes_divorced = confusion_matrix_divorced[1,0] / (confusion_matrix_divorced[1,0] + confusion_matrix_divorced[0,0])\n",
    "\n",
    "FNR_Naive_Bayes_divorced "
   ]
  },
  {
   "cell_type": "code",
   "execution_count": 35,
   "metadata": {},
   "outputs": [],
   "source": [
    "# Fairness Through Unwareness\n",
    "x_train_unawareness = x_train.copy()\n",
    "x_train_unawareness\n",
    "x_train_unawareness.drop('marital_married', inplace=True, axis=1)\n",
    "x_train_unawareness.drop('marital_single', inplace=True, axis=1)\n",
    "x_train_unawareness.drop('marital_divorced', inplace=True, axis=1)\n",
    "\n",
    "# x_train_unawareness.columns.values\n",
    "# x_train.columns.values\n",
    "\n",
    "\n",
    "\n",
    "\n"
   ]
  },
  {
   "cell_type": "code",
   "execution_count": 36,
   "metadata": {},
   "outputs": [
    {
     "name": "stderr",
     "output_type": "stream",
     "text": [
      "/tmp/ipykernel_105020/817814040.py:10: SettingWithCopyWarning: \n",
      "A value is trying to be set on a copy of a slice from a DataFrame\n",
      "\n",
      "See the caveats in the documentation: https://pandas.pydata.org/pandas-docs/stable/user_guide/indexing.html#returning-a-view-versus-a-copy\n",
      "  x_test_married.drop('marital_married', inplace=True, axis=1)\n",
      "/tmp/ipykernel_105020/817814040.py:11: SettingWithCopyWarning: \n",
      "A value is trying to be set on a copy of a slice from a DataFrame\n",
      "\n",
      "See the caveats in the documentation: https://pandas.pydata.org/pandas-docs/stable/user_guide/indexing.html#returning-a-view-versus-a-copy\n",
      "  x_test_married.drop('marital_single', inplace=True, axis=1)\n",
      "/tmp/ipykernel_105020/817814040.py:12: SettingWithCopyWarning: \n",
      "A value is trying to be set on a copy of a slice from a DataFrame\n",
      "\n",
      "See the caveats in the documentation: https://pandas.pydata.org/pandas-docs/stable/user_guide/indexing.html#returning-a-view-versus-a-copy\n",
      "  x_test_married.drop('marital_divorced', inplace=True, axis=1)\n",
      "/tmp/ipykernel_105020/817814040.py:14: SettingWithCopyWarning: \n",
      "A value is trying to be set on a copy of a slice from a DataFrame\n",
      "\n",
      "See the caveats in the documentation: https://pandas.pydata.org/pandas-docs/stable/user_guide/indexing.html#returning-a-view-versus-a-copy\n",
      "  x_test_single.drop('marital_married', inplace=True, axis=1)\n",
      "/tmp/ipykernel_105020/817814040.py:15: SettingWithCopyWarning: \n",
      "A value is trying to be set on a copy of a slice from a DataFrame\n",
      "\n",
      "See the caveats in the documentation: https://pandas.pydata.org/pandas-docs/stable/user_guide/indexing.html#returning-a-view-versus-a-copy\n",
      "  x_test_single.drop('marital_single', inplace=True, axis=1)\n",
      "/tmp/ipykernel_105020/817814040.py:16: SettingWithCopyWarning: \n",
      "A value is trying to be set on a copy of a slice from a DataFrame\n",
      "\n",
      "See the caveats in the documentation: https://pandas.pydata.org/pandas-docs/stable/user_guide/indexing.html#returning-a-view-versus-a-copy\n",
      "  x_test_single.drop('marital_divorced', inplace=True, axis=1)\n",
      "/tmp/ipykernel_105020/817814040.py:18: SettingWithCopyWarning: \n",
      "A value is trying to be set on a copy of a slice from a DataFrame\n",
      "\n",
      "See the caveats in the documentation: https://pandas.pydata.org/pandas-docs/stable/user_guide/indexing.html#returning-a-view-versus-a-copy\n",
      "  x_test_divorced.drop('marital_married', inplace=True, axis=1)\n",
      "/tmp/ipykernel_105020/817814040.py:19: SettingWithCopyWarning: \n",
      "A value is trying to be set on a copy of a slice from a DataFrame\n",
      "\n",
      "See the caveats in the documentation: https://pandas.pydata.org/pandas-docs/stable/user_guide/indexing.html#returning-a-view-versus-a-copy\n",
      "  x_test_divorced.drop('marital_single', inplace=True, axis=1)\n",
      "/tmp/ipykernel_105020/817814040.py:20: SettingWithCopyWarning: \n",
      "A value is trying to be set on a copy of a slice from a DataFrame\n",
      "\n",
      "See the caveats in the documentation: https://pandas.pydata.org/pandas-docs/stable/user_guide/indexing.html#returning-a-view-versus-a-copy\n",
      "  x_test_divorced.drop('marital_divorced', inplace=True, axis=1)\n"
     ]
    }
   ],
   "source": [
    "#Fairness through unawareness\n",
    "\n",
    "x_test_unawareness = x_test.copy()\n",
    "x_test_unawareness\n",
    "x_test_married = x_test_unawareness[x_test_unawareness['marital_married'] == 1]\n",
    "x_test_single = x_test_unawareness[x_test_unawareness['marital_single'] == 1]\n",
    "x_test_divorced = x_test_unawareness[x_test_unawareness['marital_divorced'] == 1]\n",
    "\n",
    "\n",
    "x_test_married.drop('marital_married', inplace=True, axis=1)\n",
    "x_test_married.drop('marital_single', inplace=True, axis=1)\n",
    "x_test_married.drop('marital_divorced', inplace=True, axis=1)\n",
    "\n",
    "x_test_single.drop('marital_married', inplace=True, axis=1)\n",
    "x_test_single.drop('marital_single', inplace=True, axis=1)\n",
    "x_test_single.drop('marital_divorced', inplace=True, axis=1)\n",
    "\n",
    "x_test_divorced.drop('marital_married', inplace=True, axis=1)\n",
    "x_test_divorced.drop('marital_single', inplace=True, axis=1)\n",
    "x_test_divorced.drop('marital_divorced', inplace=True, axis=1)\n",
    "\n",
    "\n",
    "\n",
    "\n",
    "# x_test_unawareness.columns.values\n",
    "# x_test.columns.values\n",
    "# test_married"
   ]
  },
  {
   "cell_type": "code",
   "execution_count": 37,
   "metadata": {},
   "outputs": [
    {
     "data": {
      "text/plain": [
       "array([[11, 17],\n",
       "       [ 3,  0]])"
      ]
     },
     "execution_count": 37,
     "metadata": {},
     "output_type": "execute_result"
    }
   ],
   "source": [
    "# Test on single set\n",
    "gnb_pred_single = gnb.fit(x_train_unawareness, y_train).predict(x_test_single)\n",
    "\n",
    "test_df = x_test_single.copy()\n",
    "test_df['biY'] = y_test\n",
    "test_df['pred'] = pd.Series(gnb_pred_single, index=test_df.index)\n",
    "test_df['accurate'] = (test_df['pred'] == test_df['biY'])\n",
    "\n",
    "from sklearn.metrics import confusion_matrix\n",
    "\n",
    "confusion_matrix_single = confusion_matrix(test_df['biY'], test_df['pred'])\n",
    "confusion_matrix_single\n",
    "\n"
   ]
  },
  {
   "cell_type": "code",
   "execution_count": 38,
   "metadata": {},
   "outputs": [
    {
     "data": {
      "text/plain": [
       "0.3548387096774194"
      ]
     },
     "execution_count": 38,
     "metadata": {},
     "output_type": "execute_result"
    }
   ],
   "source": [
    "accuracy_naive_bayes_single = (confusion_matrix_single[0][0] + confusion_matrix_single[1][1]) / (confusion_matrix_single[0][0] + confusion_matrix_single[0][1] + confusion_matrix_single[1][0] + confusion_matrix_single[1][1])\n",
    "accuracy_naive_bayes_single "
   ]
  },
  {
   "cell_type": "code",
   "execution_count": 39,
   "metadata": {},
   "outputs": [
    {
     "data": {
      "text/plain": [
       "array([[26, 21],\n",
       "       [ 5,  4]])"
      ]
     },
     "execution_count": 39,
     "metadata": {},
     "output_type": "execute_result"
    }
   ],
   "source": [
    "# Test on married set\n",
    "gnb_pred_married = gnb.fit(x_train_unawareness, y_train).predict(x_test_married)\n",
    "\n",
    "test_df = x_test_married.copy()\n",
    "test_df['biY'] = y_test\n",
    "test_df['pred'] = pd.Series(gnb_pred_married, index=test_df.index)\n",
    "test_df['accurate'] = (test_df['pred'] == test_df['biY'])\n",
    "\n",
    "from sklearn.metrics import confusion_matrix\n",
    "\n",
    "confusion_matrix_married = confusion_matrix(test_df['biY'], test_df['pred'])\n",
    "confusion_matrix_married\n",
    "\n"
   ]
  },
  {
   "cell_type": "code",
   "execution_count": 40,
   "metadata": {},
   "outputs": [
    {
     "data": {
      "text/plain": [
       "0.5357142857142857"
      ]
     },
     "execution_count": 40,
     "metadata": {},
     "output_type": "execute_result"
    }
   ],
   "source": [
    "accuracy_naive_bayes_married = (confusion_matrix_married[0][0] + confusion_matrix_married[1][1]) / (confusion_matrix_married[0][0] + confusion_matrix_married[0][1] + confusion_matrix_married[1][0] + confusion_matrix_married[1][1])\n",
    "accuracy_naive_bayes_married "
   ]
  },
  {
   "cell_type": "code",
   "execution_count": 41,
   "metadata": {},
   "outputs": [
    {
     "data": {
      "text/plain": [
       "array([[9, 4],\n",
       "       [0, 0]])"
      ]
     },
     "execution_count": 41,
     "metadata": {},
     "output_type": "execute_result"
    }
   ],
   "source": [
    "# Test on divorced set\n",
    "gnb_pred_divorced = gnb.fit(x_train_unawareness, y_train).predict(x_test_divorced)\n",
    "\n",
    "test_df = x_test_divorced.copy()\n",
    "test_df['biY'] = y_test\n",
    "test_df['pred'] = pd.Series(gnb_pred_divorced, index=test_df.index)\n",
    "test_df['accurate'] = (test_df['pred'] == test_df['biY'])\n",
    "\n",
    "from sklearn.metrics import confusion_matrix\n",
    "\n",
    "confusion_matrix_divorced = confusion_matrix(test_df['biY'], test_df['pred'])\n",
    "confusion_matrix_divorced"
   ]
  },
  {
   "cell_type": "code",
   "execution_count": 42,
   "metadata": {},
   "outputs": [
    {
     "data": {
      "text/plain": [
       "0.6923076923076923"
      ]
     },
     "execution_count": 42,
     "metadata": {},
     "output_type": "execute_result"
    }
   ],
   "source": [
    "accuracy_naive_bayes_divorced = (confusion_matrix_divorced[0][0] + confusion_matrix_divorced[1][1]) / (confusion_matrix_divorced[0][0] + confusion_matrix_divorced[0][1] + confusion_matrix_divorced[1][0] + confusion_matrix_divorced[1][1])\n",
    "accuracy_naive_bayes_divorced # 0.8718606782768102"
   ]
  },
  {
   "cell_type": "markdown",
   "metadata": {},
   "source": [
    "Random Forest Model"
   ]
  },
  {
   "cell_type": "code",
   "execution_count": 43,
   "metadata": {},
   "outputs": [],
   "source": [
    "from sklearn.ensemble import RandomForestClassifier\n",
    "rf = RandomForestClassifier(max_depth=2, random_state=1234, class_weight='balanced')\n",
    "rf_pred = rf.fit(x_train, y_train).predict(x_test)"
   ]
  },
  {
   "cell_type": "code",
   "execution_count": 44,
   "metadata": {},
   "outputs": [
    {
     "data": {
      "text/plain": [
       "array(['balance', 'day', 'duration', 'campaign', 'pdays', 'previous',\n",
       "       'biDefault', 'biHousing', 'biLoan', 'catAge_30-40', 'catAge_40-50',\n",
       "       'catAge_<=30', 'catAge_>=50', 'job_admin.', 'job_blue-collar',\n",
       "       'job_entrepreneur', 'job_housemaid', 'job_management',\n",
       "       'job_retired', 'job_self-employed', 'job_services', 'job_student',\n",
       "       'job_technician', 'job_unemployed', 'marital_divorced',\n",
       "       'marital_married', 'marital_single', 'education_primary',\n",
       "       'education_secondary', 'education_tertiary', 'month_apr',\n",
       "       'month_aug', 'month_dec', 'month_feb', 'month_jan', 'month_jul',\n",
       "       'month_jun', 'month_mar', 'month_may', 'month_nov', 'month_oct',\n",
       "       'month_sep', 'Fmonth_apr', 'Fmonth_aug', 'Fmonth_dec',\n",
       "       'Fmonth_feb', 'Fmonth_jan', 'Fmonth_jul', 'Fmonth_jun',\n",
       "       'Fmonth_mar', 'Fmonth_may', 'Fmonth_nov', 'Fmonth_oct', 'biY',\n",
       "       'pred', 'accurate'], dtype=object)"
      ]
     },
     "execution_count": 44,
     "metadata": {},
     "output_type": "execute_result"
    }
   ],
   "source": [
    "test_df = x_test.copy()\n",
    "test_df['biY'] = y_test\n",
    "test_df['pred'] = pd.Series(rf_pred, index=test_df.index)\n",
    "test_df['accurate'] = (test_df['pred'] == test_df['biY'])\n",
    "test_df.columns.values"
   ]
  },
  {
   "cell_type": "code",
   "execution_count": 45,
   "metadata": {},
   "outputs": [
    {
     "data": {
      "text/plain": [
       "array([[70, 18],\n",
       "       [ 9,  3]])"
      ]
     },
     "execution_count": 45,
     "metadata": {},
     "output_type": "execute_result"
    }
   ],
   "source": [
    "from sklearn.metrics import confusion_matrix\n",
    "confusion_matrix = confusion_matrix(test_df['biY'], test_df['pred'])\n",
    "confusion_matrix"
   ]
  },
  {
   "cell_type": "code",
   "execution_count": 46,
   "metadata": {},
   "outputs": [
    {
     "data": {
      "text/plain": [
       "0.73"
      ]
     },
     "execution_count": 46,
     "metadata": {},
     "output_type": "execute_result"
    }
   ],
   "source": [
    "# Accuracy\n",
    "# \"Accuracy: \", test_df.accurate.mean()\n",
    "accuracy_rf = (confusion_matrix[0][0] + confusion_matrix[1][1]) / (confusion_matrix[0][0] + confusion_matrix[0][1] + confusion_matrix[1][0] + confusion_matrix[1][1])\n",
    "accuracy_rf\n"
   ]
  },
  {
   "cell_type": "code",
   "execution_count": 47,
   "metadata": {},
   "outputs": [],
   "source": [
    "# Split dataset based on marital status\n",
    "test_df.columns.values\n",
    "test_married = x_test[x_test['marital_married'] == 1]\n",
    "test_single = x_test[x_test['marital_single'] == 1]\n",
    "test_divorced = x_test[x_test['marital_divorced'] == 1]"
   ]
  },
  {
   "cell_type": "code",
   "execution_count": 48,
   "metadata": {},
   "outputs": [
    {
     "data": {
      "text/plain": [
       "array([[20,  8],\n",
       "       [ 3,  0]])"
      ]
     },
     "execution_count": 48,
     "metadata": {},
     "output_type": "execute_result"
    }
   ],
   "source": [
    "# Test on single subset\n",
    "rf_pred_single = rf.fit(x_train, y_train).predict(test_single)\n",
    "\n",
    "test_df = test_single.copy()\n",
    "test_df['biY'] = y_test\n",
    "test_df['pred'] = pd.Series(rf_pred_single, index=test_df.index)\n",
    "test_df['accurate'] = (test_df['pred'] == test_df['biY'])\n",
    "\n",
    "from sklearn.metrics import confusion_matrix\n",
    "\n",
    "confusion_matrix_single = confusion_matrix(test_df['biY'], test_df['pred'])\n",
    "confusion_matrix_single"
   ]
  },
  {
   "cell_type": "code",
   "execution_count": 49,
   "metadata": {},
   "outputs": [
    {
     "data": {
      "text/plain": [
       "0.6451612903225806"
      ]
     },
     "execution_count": 49,
     "metadata": {},
     "output_type": "execute_result"
    }
   ],
   "source": [
    "accuracy_rf_single = (confusion_matrix_single[0][0] + confusion_matrix_single[1][1]) / (confusion_matrix_single[0][0] + confusion_matrix_single[0][1] + confusion_matrix_single[1][0] + confusion_matrix_single[1][1])\n",
    "accuracy_rf_single"
   ]
  },
  {
   "cell_type": "code",
   "execution_count": 50,
   "metadata": {},
   "outputs": [
    {
     "data": {
      "text/plain": [
       "array([[38,  9],\n",
       "       [ 6,  3]])"
      ]
     },
     "execution_count": 50,
     "metadata": {},
     "output_type": "execute_result"
    }
   ],
   "source": [
    "# Test on married subset\n",
    "rf_pred_married = rf.fit(x_train, y_train).predict(test_married)\n",
    "\n",
    "test_df = test_married.copy()\n",
    "test_df['biY'] = y_test\n",
    "test_df['pred'] = pd.Series(rf_pred_married, index=test_df.index)\n",
    "test_df['accurate'] = (test_df['pred'] == test_df['biY'])\n",
    "\n",
    "from sklearn.metrics import confusion_matrix\n",
    "\n",
    "confusion_matrix_married = confusion_matrix(test_df['biY'], test_df['pred'])\n",
    "confusion_matrix_married"
   ]
  },
  {
   "cell_type": "code",
   "execution_count": 51,
   "metadata": {},
   "outputs": [
    {
     "data": {
      "text/plain": [
       "0.7321428571428571"
      ]
     },
     "execution_count": 51,
     "metadata": {},
     "output_type": "execute_result"
    }
   ],
   "source": [
    "accuracy_rf_married = (confusion_matrix_married[0][0] + confusion_matrix_married[1][1]) / (confusion_matrix_married[0][0] + confusion_matrix_married[0][1] + confusion_matrix_married[1][0] + confusion_matrix_married[1][1])\n",
    "accuracy_rf_married "
   ]
  },
  {
   "cell_type": "code",
   "execution_count": 52,
   "metadata": {},
   "outputs": [
    {
     "data": {
      "text/plain": [
       "array([[12,  1],\n",
       "       [ 0,  0]])"
      ]
     },
     "execution_count": 52,
     "metadata": {},
     "output_type": "execute_result"
    }
   ],
   "source": [
    "# Test on divorced subset\n",
    "rf_pred_divorced = rf.fit(x_train, y_train).predict(test_divorced)\n",
    " \n",
    "test_df = test_divorced.copy()\n",
    "test_df['biY'] = y_test\n",
    "test_df['pred'] = pd.Series(rf_pred_divorced, index=test_df.index)\n",
    "test_df['accurate'] = (test_df['pred'] == test_df['biY'])\n",
    " \n",
    "from sklearn.metrics import confusion_matrix\n",
    " \n",
    "confusion_matrix_divorced = confusion_matrix(test_df['biY'], test_df['pred'])\n",
    "confusion_matrix_divorced\n"
   ]
  },
  {
   "cell_type": "code",
   "execution_count": 53,
   "metadata": {},
   "outputs": [
    {
     "data": {
      "text/plain": [
       "0.9230769230769231"
      ]
     },
     "execution_count": 53,
     "metadata": {},
     "output_type": "execute_result"
    }
   ],
   "source": [
    "accuracy_naive_bayes_divorced = (confusion_matrix_divorced[0][0] + confusion_matrix_divorced[1][1]) / (confusion_matrix_divorced[0][0] + confusion_matrix_divorced[0][1] + confusion_matrix_divorced[1][0] + confusion_matrix_divorced[1][1])\n",
    "accuracy_naive_bayes_divorced "
   ]
  },
  {
   "cell_type": "code",
   "execution_count": 54,
   "metadata": {},
   "outputs": [
    {
     "data": {
      "text/plain": [
       "41"
      ]
     },
     "execution_count": 54,
     "metadata": {},
     "output_type": "execute_result"
    }
   ],
   "source": [
    "#Demographic Parity\n",
    "# positive rate = TP + TN\n",
    "PR_rf_married = confusion_matrix_married[0,0] +confusion_matrix_married[1,1]\n",
    "PR_rf_married # 4756"
   ]
  },
  {
   "cell_type": "code",
   "execution_count": 55,
   "metadata": {},
   "outputs": [
    {
     "data": {
      "text/plain": [
       "20"
      ]
     },
     "execution_count": 55,
     "metadata": {},
     "output_type": "execute_result"
    }
   ],
   "source": [
    "PR_rf_single = confusion_matrix_single[0,0] +confusion_matrix_single[1,1]\n",
    "PR_rf_single # 2136"
   ]
  },
  {
   "cell_type": "code",
   "execution_count": 56,
   "metadata": {},
   "outputs": [
    {
     "data": {
      "text/plain": [
       "12"
      ]
     },
     "execution_count": 56,
     "metadata": {},
     "output_type": "execute_result"
    }
   ],
   "source": [
    "PR_rf_divorced = confusion_matrix_divorced[0,0] +confusion_matrix_divorced[1,1]\n",
    "PR_rf_divorced # 2136"
   ]
  },
  {
   "cell_type": "code",
   "execution_count": 57,
   "metadata": {},
   "outputs": [
    {
     "data": {
      "text/plain": [
       "0.8636363636363636"
      ]
     },
     "execution_count": 57,
     "metadata": {},
     "output_type": "execute_result"
    }
   ],
   "source": [
    "# Equalized Opportunity\n",
    "#TPR = TP/TP+FN\n",
    "\n",
    "TPR_rf_married = confusion_matrix_married[0,0] / (confusion_matrix_married[0,0] + confusion_matrix_married[1,0])\n",
    "\n",
    "TPR_rf_married "
   ]
  },
  {
   "cell_type": "code",
   "execution_count": 58,
   "metadata": {},
   "outputs": [
    {
     "data": {
      "text/plain": [
       "0.8695652173913043"
      ]
     },
     "execution_count": 58,
     "metadata": {},
     "output_type": "execute_result"
    }
   ],
   "source": [
    "TPR_rf_single = confusion_matrix_single[0,0] / (confusion_matrix_single[0,0] + confusion_matrix_single[1,0])\n",
    "\n",
    "TPR_rf_single "
   ]
  },
  {
   "cell_type": "code",
   "execution_count": 59,
   "metadata": {},
   "outputs": [
    {
     "data": {
      "text/plain": [
       "1.0"
      ]
     },
     "execution_count": 59,
     "metadata": {},
     "output_type": "execute_result"
    }
   ],
   "source": [
    "TPR_rf_divorced = confusion_matrix_divorced[0,0] / (confusion_matrix_divorced[0,0] + confusion_matrix_divorced[1,0])\n",
    "\n",
    "TPR_rf_divorced "
   ]
  },
  {
   "cell_type": "code",
   "execution_count": 60,
   "metadata": {},
   "outputs": [
    {
     "data": {
      "text/plain": [
       "0.13636363636363635"
      ]
     },
     "execution_count": 60,
     "metadata": {},
     "output_type": "execute_result"
    }
   ],
   "source": [
    "# Equalized Odds\n",
    "#TPR = TP/TP+FN\n",
    "#FNR = FN/FN+TP\n",
    "\n",
    "\n",
    "FNR_rf_married = confusion_matrix_married[1,0] / (confusion_matrix_married[1,0] + confusion_matrix_married[0,0])\n",
    "\n",
    "FNR_rf_married # 0.11652109273369263\n"
   ]
  },
  {
   "cell_type": "code",
   "execution_count": 61,
   "metadata": {},
   "outputs": [
    {
     "data": {
      "text/plain": [
       "0.13043478260869565"
      ]
     },
     "execution_count": 61,
     "metadata": {},
     "output_type": "execute_result"
    }
   ],
   "source": [
    "FNR_rf_single = confusion_matrix_single[1,0] / (confusion_matrix_single[1,0] + confusion_matrix_single[0,0])\n",
    "\n",
    "FNR_rf_single "
   ]
  },
  {
   "cell_type": "code",
   "execution_count": 62,
   "metadata": {},
   "outputs": [
    {
     "data": {
      "text/plain": [
       "0.0"
      ]
     },
     "execution_count": 62,
     "metadata": {},
     "output_type": "execute_result"
    }
   ],
   "source": [
    "FNR_rf_divorced = confusion_matrix_divorced[1,0] / (confusion_matrix_divorced[1,0] + confusion_matrix_divorced[0,0])\n",
    "\n",
    "FNR_rf_divorced "
   ]
  },
  {
   "cell_type": "code",
   "execution_count": 63,
   "metadata": {},
   "outputs": [],
   "source": [
    "# Fairness Through Unwareness\n",
    "x_train_unawareness = x_train.copy()\n",
    "x_train_unawareness\n",
    "x_train_unawareness.drop('marital_married', inplace=True, axis=1)\n",
    "x_train_unawareness.drop('marital_single', inplace=True, axis=1)\n",
    "x_train_unawareness.drop('marital_divorced', inplace=True, axis=1)\n",
    "\n",
    "# x_train_unawareness.columns.values\n",
    "# x_train.columns.values"
   ]
  },
  {
   "cell_type": "code",
   "execution_count": 64,
   "metadata": {},
   "outputs": [
    {
     "name": "stderr",
     "output_type": "stream",
     "text": [
      "/tmp/ipykernel_105020/1113718184.py:10: SettingWithCopyWarning: \n",
      "A value is trying to be set on a copy of a slice from a DataFrame\n",
      "\n",
      "See the caveats in the documentation: https://pandas.pydata.org/pandas-docs/stable/user_guide/indexing.html#returning-a-view-versus-a-copy\n",
      "  x_test_married.drop('marital_married', inplace=True, axis=1)\n",
      "/tmp/ipykernel_105020/1113718184.py:11: SettingWithCopyWarning: \n",
      "A value is trying to be set on a copy of a slice from a DataFrame\n",
      "\n",
      "See the caveats in the documentation: https://pandas.pydata.org/pandas-docs/stable/user_guide/indexing.html#returning-a-view-versus-a-copy\n",
      "  x_test_married.drop('marital_single', inplace=True, axis=1)\n",
      "/tmp/ipykernel_105020/1113718184.py:12: SettingWithCopyWarning: \n",
      "A value is trying to be set on a copy of a slice from a DataFrame\n",
      "\n",
      "See the caveats in the documentation: https://pandas.pydata.org/pandas-docs/stable/user_guide/indexing.html#returning-a-view-versus-a-copy\n",
      "  x_test_married.drop('marital_divorced', inplace=True, axis=1)\n",
      "/tmp/ipykernel_105020/1113718184.py:14: SettingWithCopyWarning: \n",
      "A value is trying to be set on a copy of a slice from a DataFrame\n",
      "\n",
      "See the caveats in the documentation: https://pandas.pydata.org/pandas-docs/stable/user_guide/indexing.html#returning-a-view-versus-a-copy\n",
      "  x_test_single.drop('marital_married', inplace=True, axis=1)\n",
      "/tmp/ipykernel_105020/1113718184.py:15: SettingWithCopyWarning: \n",
      "A value is trying to be set on a copy of a slice from a DataFrame\n",
      "\n",
      "See the caveats in the documentation: https://pandas.pydata.org/pandas-docs/stable/user_guide/indexing.html#returning-a-view-versus-a-copy\n",
      "  x_test_single.drop('marital_single', inplace=True, axis=1)\n",
      "/tmp/ipykernel_105020/1113718184.py:16: SettingWithCopyWarning: \n",
      "A value is trying to be set on a copy of a slice from a DataFrame\n",
      "\n",
      "See the caveats in the documentation: https://pandas.pydata.org/pandas-docs/stable/user_guide/indexing.html#returning-a-view-versus-a-copy\n",
      "  x_test_single.drop('marital_divorced', inplace=True, axis=1)\n",
      "/tmp/ipykernel_105020/1113718184.py:18: SettingWithCopyWarning: \n",
      "A value is trying to be set on a copy of a slice from a DataFrame\n",
      "\n",
      "See the caveats in the documentation: https://pandas.pydata.org/pandas-docs/stable/user_guide/indexing.html#returning-a-view-versus-a-copy\n",
      "  x_test_divorced.drop('marital_married', inplace=True, axis=1)\n",
      "/tmp/ipykernel_105020/1113718184.py:19: SettingWithCopyWarning: \n",
      "A value is trying to be set on a copy of a slice from a DataFrame\n",
      "\n",
      "See the caveats in the documentation: https://pandas.pydata.org/pandas-docs/stable/user_guide/indexing.html#returning-a-view-versus-a-copy\n",
      "  x_test_divorced.drop('marital_single', inplace=True, axis=1)\n",
      "/tmp/ipykernel_105020/1113718184.py:20: SettingWithCopyWarning: \n",
      "A value is trying to be set on a copy of a slice from a DataFrame\n",
      "\n",
      "See the caveats in the documentation: https://pandas.pydata.org/pandas-docs/stable/user_guide/indexing.html#returning-a-view-versus-a-copy\n",
      "  x_test_divorced.drop('marital_divorced', inplace=True, axis=1)\n"
     ]
    }
   ],
   "source": [
    "#Fairness through unawareness\n",
    "\n",
    "x_test_unawareness = x_test.copy()\n",
    "x_test_unawareness\n",
    "x_test_married = x_test_unawareness[x_test_unawareness['marital_married'] == 1]\n",
    "x_test_single = x_test_unawareness[x_test_unawareness['marital_single'] == 1]\n",
    "x_test_divorced = x_test_unawareness[x_test_unawareness['marital_divorced'] == 1]\n",
    "\n",
    "\n",
    "x_test_married.drop('marital_married', inplace=True, axis=1)\n",
    "x_test_married.drop('marital_single', inplace=True, axis=1)\n",
    "x_test_married.drop('marital_divorced', inplace=True, axis=1)\n",
    "\n",
    "x_test_single.drop('marital_married', inplace=True, axis=1)\n",
    "x_test_single.drop('marital_single', inplace=True, axis=1)\n",
    "x_test_single.drop('marital_divorced', inplace=True, axis=1)\n",
    "\n",
    "x_test_divorced.drop('marital_married', inplace=True, axis=1)\n",
    "x_test_divorced.drop('marital_single', inplace=True, axis=1)\n",
    "x_test_divorced.drop('marital_divorced', inplace=True, axis=1)\n",
    "\n",
    "\n",
    "# x_test_unawareness.columns.values\n",
    "# x_test.columns.values"
   ]
  },
  {
   "cell_type": "code",
   "execution_count": 65,
   "metadata": {},
   "outputs": [
    {
     "data": {
      "text/plain": [
       "array([[20,  8],\n",
       "       [ 3,  0]])"
      ]
     },
     "execution_count": 65,
     "metadata": {},
     "output_type": "execute_result"
    }
   ],
   "source": [
    "# Test on single set\n",
    "rf_pred_single = rf.fit(x_train_unawareness, y_train).predict(x_test_single)\n",
    "\n",
    "test_df = x_test_single.copy()\n",
    "test_df['biY'] = y_test\n",
    "test_df['pred'] = pd.Series(rf_pred_single, index=test_df.index)\n",
    "test_df['accurate'] = (test_df['pred'] == test_df['biY'])\n",
    "\n",
    "from sklearn.metrics import confusion_matrix\n",
    "\n",
    "confusion_matrix_single = confusion_matrix(test_df['biY'], test_df['pred'])\n",
    "confusion_matrix_single\n"
   ]
  },
  {
   "cell_type": "code",
   "execution_count": 66,
   "metadata": {},
   "outputs": [
    {
     "data": {
      "text/plain": [
       "0.6451612903225806"
      ]
     },
     "execution_count": 66,
     "metadata": {},
     "output_type": "execute_result"
    }
   ],
   "source": [
    "accuracy_rf_single = (confusion_matrix_single[0][0] + confusion_matrix_single[1][1]) / (confusion_matrix_single[0][0] + confusion_matrix_single[0][1] + confusion_matrix_single[1][0] + confusion_matrix_single[1][1])\n",
    "accuracy_rf_single "
   ]
  },
  {
   "cell_type": "code",
   "execution_count": 67,
   "metadata": {},
   "outputs": [
    {
     "data": {
      "text/plain": [
       "array([[36, 11],\n",
       "       [ 7,  2]])"
      ]
     },
     "execution_count": 67,
     "metadata": {},
     "output_type": "execute_result"
    }
   ],
   "source": [
    "# Test on married set\n",
    "rf_pred_married = rf.fit(x_train_unawareness, y_train).predict(x_test_married)\n",
    "\n",
    "test_df = x_test_married.copy()\n",
    "test_df['biY'] = y_test\n",
    "test_df['pred'] = pd.Series(rf_pred_married, index=test_df.index)\n",
    "test_df['accurate'] = (test_df['pred'] == test_df['biY'])\n",
    "\n",
    "from sklearn.metrics import confusion_matrix\n",
    "\n",
    "confusion_matrix_married = confusion_matrix(test_df['biY'], test_df['pred'])\n",
    "confusion_matrix_married\n"
   ]
  },
  {
   "cell_type": "code",
   "execution_count": 68,
   "metadata": {},
   "outputs": [
    {
     "data": {
      "text/plain": [
       "0.6785714285714286"
      ]
     },
     "execution_count": 68,
     "metadata": {},
     "output_type": "execute_result"
    }
   ],
   "source": [
    "accuracy_rf_married = (confusion_matrix_married[0][0] + confusion_matrix_married[1][1]) / (confusion_matrix_married[0][0] + confusion_matrix_married[0][1] + confusion_matrix_married[1][0] + confusion_matrix_married[1][1])\n",
    "accuracy_rf_married "
   ]
  },
  {
   "cell_type": "code",
   "execution_count": 69,
   "metadata": {},
   "outputs": [
    {
     "data": {
      "text/plain": [
       "array([[12,  1],\n",
       "       [ 0,  0]])"
      ]
     },
     "execution_count": 69,
     "metadata": {},
     "output_type": "execute_result"
    }
   ],
   "source": [
    "# Test on divorced set\n",
    "rf_pred_divorced = rf.fit(x_train_unawareness, y_train).predict(x_test_divorced)\n",
    "\n",
    "test_df = x_test_divorced.copy()\n",
    "test_df['biY'] = y_test\n",
    "test_df['pred'] = pd.Series(rf_pred_divorced, index=test_df.index)\n",
    "test_df['accurate'] = (test_df['pred'] == test_df['biY'])\n",
    "\n",
    "from sklearn.metrics import confusion_matrix\n",
    "\n",
    "confusion_matrix_divorced = confusion_matrix(test_df['biY'], test_df['pred'])\n",
    "confusion_matrix_divorced"
   ]
  },
  {
   "cell_type": "code",
   "execution_count": 70,
   "metadata": {},
   "outputs": [
    {
     "data": {
      "text/plain": [
       "0.9230769230769231"
      ]
     },
     "execution_count": 70,
     "metadata": {},
     "output_type": "execute_result"
    }
   ],
   "source": [
    "accuracy_rf_divorced = (confusion_matrix_divorced[0][0] + confusion_matrix_divorced[1][1]) / (confusion_matrix_divorced[0][0] + confusion_matrix_divorced[0][1] + confusion_matrix_divorced[1][0] + confusion_matrix_divorced[1][1])\n",
    "accuracy_rf_divorced # 0.8718606782768102"
   ]
  },
  {
   "cell_type": "markdown",
   "metadata": {},
   "source": [
    "Support Vector Machine"
   ]
  },
  {
   "cell_type": "code",
   "execution_count": 71,
   "metadata": {},
   "outputs": [],
   "source": [
    "from sklearn import svm as svm_model\n",
    "svm = svm_model.SVC(class_weight='balanced') # add class_weight='balanced' is to avoid classifying all data as 0\n",
    "svm_pred = svm.fit(x_train, y_train).predict(x_test)"
   ]
  },
  {
   "cell_type": "code",
   "execution_count": 72,
   "metadata": {},
   "outputs": [],
   "source": [
    "# from sklearn import svm as svm_model\n",
    "# svm = svm_model.SVC(class_weight='balanced') # add class_weight='balanced' is to avoid classifying all data as 0\n",
    "# svm_pred = svm.fit(x_train[:100], y_train[:100]).predict(x_test)"
   ]
  },
  {
   "cell_type": "code",
   "execution_count": 73,
   "metadata": {},
   "outputs": [
    {
     "data": {
      "text/plain": [
       "array(['balance', 'day', 'duration', 'campaign', 'pdays', 'previous',\n",
       "       'biDefault', 'biHousing', 'biLoan', 'catAge_30-40', 'catAge_40-50',\n",
       "       'catAge_<=30', 'catAge_>=50', 'job_admin.', 'job_blue-collar',\n",
       "       'job_entrepreneur', 'job_housemaid', 'job_management',\n",
       "       'job_retired', 'job_self-employed', 'job_services', 'job_student',\n",
       "       'job_technician', 'job_unemployed', 'marital_divorced',\n",
       "       'marital_married', 'marital_single', 'education_primary',\n",
       "       'education_secondary', 'education_tertiary', 'month_apr',\n",
       "       'month_aug', 'month_dec', 'month_feb', 'month_jan', 'month_jul',\n",
       "       'month_jun', 'month_mar', 'month_may', 'month_nov', 'month_oct',\n",
       "       'month_sep', 'Fmonth_apr', 'Fmonth_aug', 'Fmonth_dec',\n",
       "       'Fmonth_feb', 'Fmonth_jan', 'Fmonth_jul', 'Fmonth_jun',\n",
       "       'Fmonth_mar', 'Fmonth_may', 'Fmonth_nov', 'Fmonth_oct', 'biY',\n",
       "       'pred', 'accurate'], dtype=object)"
      ]
     },
     "execution_count": 73,
     "metadata": {},
     "output_type": "execute_result"
    }
   ],
   "source": [
    "test_df = x_test.copy()\n",
    "test_df['biY'] = y_test\n",
    "test_df['pred'] = pd.Series(svm_pred, index=test_df.index)\n",
    "test_df['accurate'] = (test_df['pred'] == test_df['biY'])\n",
    "test_df.columns.values"
   ]
  },
  {
   "cell_type": "code",
   "execution_count": 74,
   "metadata": {},
   "outputs": [
    {
     "data": {
      "text/plain": [
       "array([[75, 13],\n",
       "       [ 7,  5]])"
      ]
     },
     "execution_count": 74,
     "metadata": {},
     "output_type": "execute_result"
    }
   ],
   "source": [
    "from sklearn.metrics import confusion_matrix\n",
    "confusion_matrix = confusion_matrix(test_df['biY'], test_df['pred'])\n",
    "confusion_matrix"
   ]
  },
  {
   "cell_type": "code",
   "execution_count": 75,
   "metadata": {},
   "outputs": [
    {
     "data": {
      "text/plain": [
       "0.8"
      ]
     },
     "execution_count": 75,
     "metadata": {},
     "output_type": "execute_result"
    }
   ],
   "source": [
    "# Accuracy\n",
    "# \"Accuracy: \", test_df.accurate.mean()\n",
    "accuracy_svm = (confusion_matrix[0][0] + confusion_matrix[1][1]) / (confusion_matrix[0][0] + confusion_matrix[0][1] + confusion_matrix[1][0] + confusion_matrix[1][1])\n",
    "accuracy_svm\n"
   ]
  },
  {
   "cell_type": "code",
   "execution_count": 76,
   "metadata": {},
   "outputs": [],
   "source": [
    "# Split dataset based on marital status\n",
    "test_df.columns.values\n",
    "test_married = x_test[x_test['marital_married'] == 1]\n",
    "test_single = x_test[x_test['marital_single'] == 1]\n",
    "test_divorced = x_test[x_test['marital_divorced'] == 1]"
   ]
  },
  {
   "cell_type": "code",
   "execution_count": 77,
   "metadata": {},
   "outputs": [
    {
     "data": {
      "text/plain": [
       "array([[24,  4],\n",
       "       [ 1,  2]])"
      ]
     },
     "execution_count": 77,
     "metadata": {},
     "output_type": "execute_result"
    }
   ],
   "source": [
    "# Test on single subset\n",
    "svm_pred_single = svm.fit(x_train, y_train).predict(test_single)\n",
    "\n",
    "test_df = test_single.copy()\n",
    "test_df['biY'] = y_test\n",
    "test_df['pred'] = pd.Series(svm_pred_single, index=test_df.index)\n",
    "test_df['accurate'] = (test_df['pred'] == test_df['biY'])\n",
    "\n",
    "from sklearn.metrics import confusion_matrix\n",
    "\n",
    "confusion_matrix_single = confusion_matrix(test_df['biY'], test_df['pred'])\n",
    "confusion_matrix_single"
   ]
  },
  {
   "cell_type": "code",
   "execution_count": 78,
   "metadata": {},
   "outputs": [
    {
     "data": {
      "text/plain": [
       "0.8387096774193549"
      ]
     },
     "execution_count": 78,
     "metadata": {},
     "output_type": "execute_result"
    }
   ],
   "source": [
    "accuracy_svm_single = (confusion_matrix_single[0][0] + confusion_matrix_single[1][1]) / (confusion_matrix_single[0][0] + confusion_matrix_single[0][1] + confusion_matrix_single[1][0] + confusion_matrix_single[1][1])\n",
    "accuracy_svm_single"
   ]
  },
  {
   "cell_type": "code",
   "execution_count": 79,
   "metadata": {},
   "outputs": [
    {
     "data": {
      "text/plain": [
       "array([[41,  6],\n",
       "       [ 6,  3]])"
      ]
     },
     "execution_count": 79,
     "metadata": {},
     "output_type": "execute_result"
    }
   ],
   "source": [
    "# Test on married subset\n",
    "svm_pred_married = svm.fit(x_train, y_train).predict(test_married)\n",
    "\n",
    "test_df = test_married.copy()\n",
    "test_df['biY'] = y_test\n",
    "test_df['pred'] = pd.Series(svm_pred_married, index=test_df.index)\n",
    "test_df['accurate'] = (test_df['pred'] == test_df['biY'])\n",
    "\n",
    "from sklearn.metrics import confusion_matrix\n",
    "\n",
    "confusion_matrix_married = confusion_matrix(test_df['biY'], test_df['pred'])\n",
    "confusion_matrix_married"
   ]
  },
  {
   "cell_type": "code",
   "execution_count": 80,
   "metadata": {},
   "outputs": [
    {
     "data": {
      "text/plain": [
       "0.7857142857142857"
      ]
     },
     "execution_count": 80,
     "metadata": {},
     "output_type": "execute_result"
    }
   ],
   "source": [
    "accuracy_svm_married = (confusion_matrix_married[0][0] + confusion_matrix_married[1][1]) / (confusion_matrix_married[0][0] + confusion_matrix_married[0][1] + confusion_matrix_married[1][0] + confusion_matrix_married[1][1])\n",
    "accuracy_svm_married # 0.8718606782768102"
   ]
  },
  {
   "cell_type": "code",
   "execution_count": 81,
   "metadata": {},
   "outputs": [
    {
     "data": {
      "text/plain": [
       "array([[10,  3],\n",
       "       [ 0,  0]])"
      ]
     },
     "execution_count": 81,
     "metadata": {},
     "output_type": "execute_result"
    }
   ],
   "source": [
    "# Test on divorced subset\n",
    "svm_pred_divorced = svm.fit(x_train, y_train).predict(test_divorced)\n",
    "\n",
    "test_df = test_divorced.copy()\n",
    "test_df['biY'] = y_test\n",
    "test_df['pred'] = pd.Series(svm_pred_divorced, index=test_df.index)\n",
    "test_df['accurate'] = (test_df['pred'] == test_df['biY'])\n",
    "\n",
    "from sklearn.metrics import confusion_matrix\n",
    "\n",
    "confusion_matrix_divorced = confusion_matrix(test_df['biY'], test_df['pred'])\n",
    "confusion_matrix_divorced"
   ]
  },
  {
   "cell_type": "code",
   "execution_count": 82,
   "metadata": {},
   "outputs": [
    {
     "data": {
      "text/plain": [
       "0.7692307692307693"
      ]
     },
     "execution_count": 82,
     "metadata": {},
     "output_type": "execute_result"
    }
   ],
   "source": [
    "accuracy_svm_divorced = (confusion_matrix_divorced[0][0] + confusion_matrix_divorced[1][1]) / (confusion_matrix_divorced[0][0] + confusion_matrix_divorced[0][1] + confusion_matrix_divorced[1][0] + confusion_matrix_divorced[1][1])\n",
    "accuracy_svm_divorced # 0.8718606782768102"
   ]
  },
  {
   "cell_type": "code",
   "execution_count": 83,
   "metadata": {},
   "outputs": [
    {
     "data": {
      "text/plain": [
       "44"
      ]
     },
     "execution_count": 83,
     "metadata": {},
     "output_type": "execute_result"
    }
   ],
   "source": [
    "#Demographic Parity\n",
    "# positive rate = TP + TN\n",
    "PR_svm_married = confusion_matrix_married[0,0] +confusion_matrix_married[1,1]\n",
    "\n",
    "PR_svm_married"
   ]
  },
  {
   "cell_type": "code",
   "execution_count": 84,
   "metadata": {},
   "outputs": [
    {
     "data": {
      "text/plain": [
       "26"
      ]
     },
     "execution_count": 84,
     "metadata": {},
     "output_type": "execute_result"
    }
   ],
   "source": [
    "PR_svm_single = confusion_matrix_single[0,0] +confusion_matrix_single[1,1]\n",
    "PR_svm_single"
   ]
  },
  {
   "cell_type": "code",
   "execution_count": 85,
   "metadata": {},
   "outputs": [
    {
     "data": {
      "text/plain": [
       "10"
      ]
     },
     "execution_count": 85,
     "metadata": {},
     "output_type": "execute_result"
    }
   ],
   "source": [
    "PR_svm_divorced = confusion_matrix_divorced[0,0] +confusion_matrix_divorced[1,1]\n",
    "PR_svm_divorced "
   ]
  },
  {
   "cell_type": "code",
   "execution_count": 86,
   "metadata": {},
   "outputs": [
    {
     "data": {
      "text/plain": [
       "0.8723404255319149"
      ]
     },
     "execution_count": 86,
     "metadata": {},
     "output_type": "execute_result"
    }
   ],
   "source": [
    "# Equalized Opportunity\n",
    "#TPR = TP/TP+FN\n",
    "\n",
    "TPR_svm_married = confusion_matrix_married[0,0] / (confusion_matrix_married[0,0] + confusion_matrix_married[1,0])\n",
    "\n",
    "TPR_svm_married "
   ]
  },
  {
   "cell_type": "code",
   "execution_count": 87,
   "metadata": {},
   "outputs": [
    {
     "data": {
      "text/plain": [
       "0.96"
      ]
     },
     "execution_count": 87,
     "metadata": {},
     "output_type": "execute_result"
    }
   ],
   "source": [
    "TPR_svm_single = confusion_matrix_single[0,0] / (confusion_matrix_single[0,0] + confusion_matrix_single[1,0])\n",
    "\n",
    "TPR_svm_single "
   ]
  },
  {
   "cell_type": "code",
   "execution_count": 88,
   "metadata": {},
   "outputs": [
    {
     "data": {
      "text/plain": [
       "1.0"
      ]
     },
     "execution_count": 88,
     "metadata": {},
     "output_type": "execute_result"
    }
   ],
   "source": [
    "TPR_svm_divorced = confusion_matrix_divorced[0,0] / (confusion_matrix_divorced[0,0] + confusion_matrix_divorced[1,0])\n",
    "\n",
    "TPR_svm_divorced "
   ]
  },
  {
   "cell_type": "code",
   "execution_count": 89,
   "metadata": {},
   "outputs": [
    {
     "data": {
      "text/plain": [
       "0.1276595744680851"
      ]
     },
     "execution_count": 89,
     "metadata": {},
     "output_type": "execute_result"
    }
   ],
   "source": [
    "# Equalized Odds\n",
    "#TPR = TP/TP+FN\n",
    "#FNR = FN/FN+TP\n",
    "\n",
    "\n",
    "FNR_svm_married = confusion_matrix_married[1,0] / (confusion_matrix_married[1,0] + confusion_matrix_married[0,0])\n",
    "\n",
    "FNR_svm_married"
   ]
  },
  {
   "cell_type": "code",
   "execution_count": 90,
   "metadata": {},
   "outputs": [
    {
     "data": {
      "text/plain": [
       "0.04"
      ]
     },
     "execution_count": 90,
     "metadata": {},
     "output_type": "execute_result"
    }
   ],
   "source": [
    "FNR_svm_single = confusion_matrix_single[1,0] / (confusion_matrix_single[1,0] + confusion_matrix_single[0,0])\n",
    "\n",
    "FNR_svm_single "
   ]
  },
  {
   "cell_type": "code",
   "execution_count": 91,
   "metadata": {},
   "outputs": [
    {
     "data": {
      "text/plain": [
       "0.0"
      ]
     },
     "execution_count": 91,
     "metadata": {},
     "output_type": "execute_result"
    }
   ],
   "source": [
    "FNR_svm_divorced = confusion_matrix_divorced[1,0] / (confusion_matrix_divorced[1,0] + confusion_matrix_divorced[0,0])\n",
    "\n",
    "FNR_svm_divorced "
   ]
  },
  {
   "cell_type": "code",
   "execution_count": 92,
   "metadata": {},
   "outputs": [],
   "source": [
    "# Fairness Through Unwareness\n",
    "x_train_unawareness = x_train.copy()\n",
    "x_train_unawareness\n",
    "x_train_unawareness.drop('marital_married', inplace=True, axis=1)\n",
    "x_train_unawareness.drop('marital_single', inplace=True, axis=1)\n",
    "x_train_unawareness.drop('marital_divorced', inplace=True, axis=1)\n",
    "\n",
    "# x_train_unawareness.columns.values\n",
    "# x_train.columns.values"
   ]
  },
  {
   "cell_type": "code",
   "execution_count": 93,
   "metadata": {},
   "outputs": [
    {
     "name": "stderr",
     "output_type": "stream",
     "text": [
      "/tmp/ipykernel_105020/2448254121.py:10: SettingWithCopyWarning: \n",
      "A value is trying to be set on a copy of a slice from a DataFrame\n",
      "\n",
      "See the caveats in the documentation: https://pandas.pydata.org/pandas-docs/stable/user_guide/indexing.html#returning-a-view-versus-a-copy\n",
      "  x_test_married.drop('marital_married', inplace=True, axis=1)\n",
      "/tmp/ipykernel_105020/2448254121.py:11: SettingWithCopyWarning: \n",
      "A value is trying to be set on a copy of a slice from a DataFrame\n",
      "\n",
      "See the caveats in the documentation: https://pandas.pydata.org/pandas-docs/stable/user_guide/indexing.html#returning-a-view-versus-a-copy\n",
      "  x_test_married.drop('marital_single', inplace=True, axis=1)\n",
      "/tmp/ipykernel_105020/2448254121.py:12: SettingWithCopyWarning: \n",
      "A value is trying to be set on a copy of a slice from a DataFrame\n",
      "\n",
      "See the caveats in the documentation: https://pandas.pydata.org/pandas-docs/stable/user_guide/indexing.html#returning-a-view-versus-a-copy\n",
      "  x_test_married.drop('marital_divorced', inplace=True, axis=1)\n",
      "/tmp/ipykernel_105020/2448254121.py:14: SettingWithCopyWarning: \n",
      "A value is trying to be set on a copy of a slice from a DataFrame\n",
      "\n",
      "See the caveats in the documentation: https://pandas.pydata.org/pandas-docs/stable/user_guide/indexing.html#returning-a-view-versus-a-copy\n",
      "  x_test_single.drop('marital_married', inplace=True, axis=1)\n",
      "/tmp/ipykernel_105020/2448254121.py:15: SettingWithCopyWarning: \n",
      "A value is trying to be set on a copy of a slice from a DataFrame\n",
      "\n",
      "See the caveats in the documentation: https://pandas.pydata.org/pandas-docs/stable/user_guide/indexing.html#returning-a-view-versus-a-copy\n",
      "  x_test_single.drop('marital_single', inplace=True, axis=1)\n",
      "/tmp/ipykernel_105020/2448254121.py:16: SettingWithCopyWarning: \n",
      "A value is trying to be set on a copy of a slice from a DataFrame\n",
      "\n",
      "See the caveats in the documentation: https://pandas.pydata.org/pandas-docs/stable/user_guide/indexing.html#returning-a-view-versus-a-copy\n",
      "  x_test_single.drop('marital_divorced', inplace=True, axis=1)\n",
      "/tmp/ipykernel_105020/2448254121.py:18: SettingWithCopyWarning: \n",
      "A value is trying to be set on a copy of a slice from a DataFrame\n",
      "\n",
      "See the caveats in the documentation: https://pandas.pydata.org/pandas-docs/stable/user_guide/indexing.html#returning-a-view-versus-a-copy\n",
      "  x_test_divorced.drop('marital_married', inplace=True, axis=1)\n",
      "/tmp/ipykernel_105020/2448254121.py:19: SettingWithCopyWarning: \n",
      "A value is trying to be set on a copy of a slice from a DataFrame\n",
      "\n",
      "See the caveats in the documentation: https://pandas.pydata.org/pandas-docs/stable/user_guide/indexing.html#returning-a-view-versus-a-copy\n",
      "  x_test_divorced.drop('marital_single', inplace=True, axis=1)\n",
      "/tmp/ipykernel_105020/2448254121.py:20: SettingWithCopyWarning: \n",
      "A value is trying to be set on a copy of a slice from a DataFrame\n",
      "\n",
      "See the caveats in the documentation: https://pandas.pydata.org/pandas-docs/stable/user_guide/indexing.html#returning-a-view-versus-a-copy\n",
      "  x_test_divorced.drop('marital_divorced', inplace=True, axis=1)\n"
     ]
    }
   ],
   "source": [
    "#Fairness through unawareness\n",
    "\n",
    "x_test_unawareness = x_test.copy()\n",
    "x_test_unawareness\n",
    "x_test_married = x_test_unawareness[x_test_unawareness['marital_married'] == 1]\n",
    "x_test_single = x_test_unawareness[x_test_unawareness['marital_single'] == 1]\n",
    "x_test_divorced = x_test_unawareness[x_test_unawareness['marital_divorced'] == 1]\n",
    "\n",
    "\n",
    "x_test_married.drop('marital_married', inplace=True, axis=1)\n",
    "x_test_married.drop('marital_single', inplace=True, axis=1)\n",
    "x_test_married.drop('marital_divorced', inplace=True, axis=1)\n",
    "\n",
    "x_test_single.drop('marital_married', inplace=True, axis=1)\n",
    "x_test_single.drop('marital_single', inplace=True, axis=1)\n",
    "x_test_single.drop('marital_divorced', inplace=True, axis=1)\n",
    "\n",
    "x_test_divorced.drop('marital_married', inplace=True, axis=1)\n",
    "x_test_divorced.drop('marital_single', inplace=True, axis=1)\n",
    "x_test_divorced.drop('marital_divorced', inplace=True, axis=1)\n",
    "\n"
   ]
  },
  {
   "cell_type": "code",
   "execution_count": 94,
   "metadata": {},
   "outputs": [
    {
     "data": {
      "text/plain": [
       "array([[24,  4],\n",
       "       [ 1,  2]])"
      ]
     },
     "execution_count": 94,
     "metadata": {},
     "output_type": "execute_result"
    }
   ],
   "source": [
    "# Test on single set\n",
    "svm_pred_single = svm.fit(x_train_unawareness, y_train).predict(x_test_single)\n",
    "\n",
    "test_df = x_test_single.copy()\n",
    "test_df['biY'] = y_test\n",
    "test_df['pred'] = pd.Series(svm_pred_single, index=test_df.index)\n",
    "test_df['accurate'] = (test_df['pred'] == test_df['biY'])\n",
    "\n",
    "from sklearn.metrics import confusion_matrix\n",
    "\n",
    "confusion_matrix_single = confusion_matrix(test_df['biY'], test_df['pred'])\n",
    "confusion_matrix_single\n"
   ]
  },
  {
   "cell_type": "code",
   "execution_count": 95,
   "metadata": {},
   "outputs": [
    {
     "data": {
      "text/plain": [
       "0.8387096774193549"
      ]
     },
     "execution_count": 95,
     "metadata": {},
     "output_type": "execute_result"
    }
   ],
   "source": [
    "accuracy_svm_single = (confusion_matrix_single[0][0] + confusion_matrix_single[1][1]) / (confusion_matrix_single[0][0] + confusion_matrix_single[0][1] + confusion_matrix_single[1][0] + confusion_matrix_single[1][1])\n",
    "accuracy_svm_single"
   ]
  },
  {
   "cell_type": "code",
   "execution_count": 96,
   "metadata": {},
   "outputs": [
    {
     "data": {
      "text/plain": [
       "array([[41,  6],\n",
       "       [ 6,  3]])"
      ]
     },
     "execution_count": 96,
     "metadata": {},
     "output_type": "execute_result"
    }
   ],
   "source": [
    "# Test on married set\n",
    "svm_pred_married = svm.fit(x_train_unawareness, y_train).predict(x_test_married)\n",
    "\n",
    "test_df = x_test_married.copy()\n",
    "test_df['biY'] = y_test\n",
    "test_df['pred'] = pd.Series(svm_pred_married, index=test_df.index)\n",
    "test_df['accurate'] = (test_df['pred'] == test_df['biY'])\n",
    "\n",
    "from sklearn.metrics import confusion_matrix\n",
    "\n",
    "confusion_matrix_married = confusion_matrix(test_df['biY'], test_df['pred'])\n",
    "confusion_matrix_married"
   ]
  },
  {
   "cell_type": "code",
   "execution_count": 97,
   "metadata": {},
   "outputs": [
    {
     "data": {
      "text/plain": [
       "0.7857142857142857"
      ]
     },
     "execution_count": 97,
     "metadata": {},
     "output_type": "execute_result"
    }
   ],
   "source": [
    "accuracy_svm_married = (confusion_matrix_married[0][0] + confusion_matrix_married[1][1]) / (confusion_matrix_married[0][0] + confusion_matrix_married[0][1] + confusion_matrix_married[1][0] + confusion_matrix_married[1][1])\n",
    "accuracy_svm_married # 0.8718606782768102"
   ]
  },
  {
   "cell_type": "code",
   "execution_count": 98,
   "metadata": {},
   "outputs": [
    {
     "data": {
      "text/plain": [
       "array([[10,  3],\n",
       "       [ 0,  0]])"
      ]
     },
     "execution_count": 98,
     "metadata": {},
     "output_type": "execute_result"
    }
   ],
   "source": [
    "# Test on divorced subset\n",
    "svm_pred_divorced = svm.fit(x_train_unawareness, y_train).predict(x_test_divorced)\n",
    "\n",
    "test_df = x_test_divorced.copy()\n",
    "test_df['biY'] = y_test\n",
    "test_df['pred'] = pd.Series(svm_pred_divorced, index=test_df.index)\n",
    "test_df['accurate'] = (test_df['pred'] == test_df['biY'])\n",
    "\n",
    "from sklearn.metrics import confusion_matrix\n",
    "\n",
    "confusion_matrix_divorced = confusion_matrix(test_df['biY'], test_df['pred'])\n",
    "confusion_matrix_divorced"
   ]
  },
  {
   "cell_type": "code",
   "execution_count": 99,
   "metadata": {},
   "outputs": [
    {
     "data": {
      "text/plain": [
       "0.7692307692307693"
      ]
     },
     "execution_count": 99,
     "metadata": {},
     "output_type": "execute_result"
    }
   ],
   "source": [
    "accuracy_svm_divorced = (confusion_matrix_divorced[0][0] + confusion_matrix_divorced[1][1]) / (confusion_matrix_divorced[0][0] + confusion_matrix_divorced[0][1] + confusion_matrix_divorced[1][0] + confusion_matrix_divorced[1][1])\n",
    "accuracy_svm_divorced "
   ]
  },
  {
   "cell_type": "markdown",
   "metadata": {},
   "source": [
    "Linear Regression model"
   ]
  },
  {
   "cell_type": "code",
   "execution_count": 100,
   "metadata": {},
   "outputs": [],
   "source": [
    "from sklearn import linear_model\n",
    "linear_regression_model = linear_model.LinearRegression()\n",
    "linear_regression_model.fit(x_train, y_train)\n",
    "prediction = linear_regression_model.predict(x_test)"
   ]
  },
  {
   "cell_type": "markdown",
   "metadata": {},
   "source": [
    "Result"
   ]
  },
  {
   "cell_type": "code",
   "execution_count": 101,
   "metadata": {},
   "outputs": [
    {
     "data": {
      "text/plain": [
       "67     0.107286\n",
       "416    0.093484\n",
       "350    0.172181\n",
       "358    0.036950\n",
       "112    0.037081\n",
       "         ...   \n",
       "214    0.073261\n",
       "181    0.177972\n",
       "386    0.163523\n",
       "407    0.021476\n",
       "435    0.097750\n",
       "Name: pred, Length: 100, dtype: float64"
      ]
     },
     "execution_count": 101,
     "metadata": {},
     "output_type": "execute_result"
    }
   ],
   "source": [
    "test_df = x_test.copy()\n",
    "test_df['biY'] = y_test\n",
    "test_df['pred'] = pd.Series(prediction, index=test_df.index)\n",
    "\n",
    "test_df['accurate'] = (test_df['pred'] == test_df['biY'])\n",
    "test_df['pred']"
   ]
  }
 ],
 "metadata": {
  "kernelspec": {
   "display_name": "Python 3.8.1 64-bit",
   "metadata": {
    "interpreter": {
     "hash": "082e9a3bcad0a290d0001e938aa60b99250c6c2ef33a923c00b70f9826caf4b7"
    }
   },
   "name": "python3"
  },
  "language_info": {
   "codemirror_mode": {
    "name": "ipython",
    "version": 3
   },
   "file_extension": ".py",
   "mimetype": "text/x-python",
   "name": "python",
   "nbconvert_exporter": "python",
   "pygments_lexer": "ipython3",
   "version": "3.8.10"
  }
 },
 "nbformat": 4,
 "nbformat_minor": 4
}
